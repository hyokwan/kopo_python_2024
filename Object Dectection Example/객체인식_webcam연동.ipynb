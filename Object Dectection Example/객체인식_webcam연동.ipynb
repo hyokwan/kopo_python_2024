{
 "cells": [
  {
   "cell_type": "code",
   "execution_count": 4,
   "metadata": {
    "executionInfo": {
     "elapsed": 5211,
     "status": "ok",
     "timestamp": 1716356641265,
     "user": {
      "displayName": "HK CODE",
      "userId": "00117506600363457025"
     },
     "user_tz": -540
    },
    "id": "3r2-mu3yu8e-"
   },
   "outputs": [],
   "source": [
    "from ultralytics import YOLO"
   ]
  },
  {
   "cell_type": "code",
   "execution_count": 6,
   "metadata": {
    "executionInfo": {
     "elapsed": 2136,
     "status": "ok",
     "timestamp": 1716356643390,
     "user": {
      "displayName": "HK CODE",
      "userId": "00117506600363457025"
     },
     "user_tz": -540
    },
    "id": "9sT38487vebP"
   },
   "outputs": [],
   "source": [
    "loadedModel = YOLO( model='yolov8n.pt' )"
   ]
  },
  {
   "cell_type": "code",
   "execution_count": 7,
   "metadata": {
    "executionInfo": {
     "elapsed": 9,
     "status": "ok",
     "timestamp": 1716356643391,
     "user": {
      "displayName": "HK CODE",
      "userId": "00117506600363457025"
     },
     "user_tz": -540
    },
    "id": "RN3znh14vkr7"
   },
   "outputs": [],
   "source": [
    "import cv2"
   ]
  },
  {
   "cell_type": "code",
   "execution_count": 8,
   "metadata": {
    "executionInfo": {
     "elapsed": 8,
     "status": "ok",
     "timestamp": 1716356643391,
     "user": {
      "displayName": "HK CODE",
      "userId": "00117506600363457025"
     },
     "user_tz": -540
    },
    "id": "NU12tdo42Y4P"
   },
   "outputs": [],
   "source": [
    "imgPath = \"./yolotestset_20240522/vita500_man.png\""
   ]
  },
  {
   "cell_type": "code",
   "execution_count": 9,
   "metadata": {
    "executionInfo": {
     "elapsed": 411,
     "status": "ok",
     "timestamp": 1716356643795,
     "user": {
      "displayName": "HK CODE",
      "userId": "00117506600363457025"
     },
     "user_tz": -540
    },
    "id": "B2QfBdC12HLj"
   },
   "outputs": [],
   "source": [
    "testImg = cv2.imread(\"./yolotestset_20240522/vita500_man.png\")"
   ]
  },
  {
   "cell_type": "markdown",
   "metadata": {
    "id": "9d1f0rED37SH"
   },
   "source": [
    "### 이미지 불러오기"
   ]
  },
  {
   "cell_type": "markdown",
   "metadata": {
    "id": "Ko6ndbLFHjnI"
   },
   "source": [
    "YOLO 모델을 파해쳐봤다!!!"
   ]
  },
  {
   "cell_type": "markdown",
   "metadata": {
    "id": "JYrP5BxlHjk0"
   },
   "source": [
    "#### 이미지 영상에 어떻게 적용하지"
   ]
  },
  {
   "cell_type": "code",
   "execution_count": 13,
   "metadata": {
    "colab": {
     "base_uri": "https://localhost:8080/"
    },
    "executionInfo": {
     "elapsed": 81725,
     "status": "ok",
     "timestamp": 1716356744881,
     "user": {
      "displayName": "HK CODE",
      "userId": "00117506600363457025"
     },
     "user_tz": -540
    },
    "id": "x_a8kL_yHjis",
    "outputId": "f5644b18-f8bc-42a8-8116-bb5bbf2601f4"
   },
   "outputs": [
    {
     "name": "stdout",
     "output_type": "stream",
     "text": [
      "\n",
      "0: 480x640 1 person, 196.0ms\n",
      "Speed: 8.0ms preprocess, 196.0ms inference, 3.0ms postprocess per image at shape (1, 3, 480, 640)\n",
      "\n",
      "0: 480x640 1 person, 215.5ms\n",
      "Speed: 29.0ms preprocess, 215.5ms inference, 3.0ms postprocess per image at shape (1, 3, 480, 640)\n",
      "\n",
      "0: 480x640 1 person, 189.0ms\n",
      "Speed: 3.0ms preprocess, 189.0ms inference, 4.0ms postprocess per image at shape (1, 3, 480, 640)\n",
      "\n",
      "0: 480x640 1 person, 188.0ms\n",
      "Speed: 3.0ms preprocess, 188.0ms inference, 3.0ms postprocess per image at shape (1, 3, 480, 640)\n",
      "\n",
      "0: 480x640 1 person, 192.0ms\n",
      "Speed: 3.0ms preprocess, 192.0ms inference, 4.0ms postprocess per image at shape (1, 3, 480, 640)\n",
      "\n",
      "0: 480x640 1 person, 191.0ms\n",
      "Speed: 3.0ms preprocess, 191.0ms inference, 4.0ms postprocess per image at shape (1, 3, 480, 640)\n",
      "\n",
      "0: 480x640 1 person, 186.0ms\n",
      "Speed: 3.0ms preprocess, 186.0ms inference, 3.0ms postprocess per image at shape (1, 3, 480, 640)\n",
      "\n",
      "0: 480x640 1 person, 197.0ms\n",
      "Speed: 5.0ms preprocess, 197.0ms inference, 4.0ms postprocess per image at shape (1, 3, 480, 640)\n",
      "\n",
      "0: 480x640 1 person, 184.0ms\n",
      "Speed: 2.0ms preprocess, 184.0ms inference, 2.0ms postprocess per image at shape (1, 3, 480, 640)\n",
      "\n",
      "0: 480x640 1 person, 191.0ms\n",
      "Speed: 2.0ms preprocess, 191.0ms inference, 3.0ms postprocess per image at shape (1, 3, 480, 640)\n",
      "\n",
      "0: 480x640 1 person, 185.0ms\n",
      "Speed: 4.0ms preprocess, 185.0ms inference, 3.0ms postprocess per image at shape (1, 3, 480, 640)\n",
      "\n",
      "0: 480x640 1 person, 195.0ms\n",
      "Speed: 3.0ms preprocess, 195.0ms inference, 3.0ms postprocess per image at shape (1, 3, 480, 640)\n",
      "\n",
      "0: 480x640 1 person, 186.5ms\n",
      "Speed: 3.0ms preprocess, 186.5ms inference, 3.0ms postprocess per image at shape (1, 3, 480, 640)\n",
      "\n",
      "0: 480x640 1 person, 181.0ms\n",
      "Speed: 3.0ms preprocess, 181.0ms inference, 4.0ms postprocess per image at shape (1, 3, 480, 640)\n",
      "\n",
      "0: 480x640 1 person, 185.0ms\n",
      "Speed: 2.0ms preprocess, 185.0ms inference, 4.0ms postprocess per image at shape (1, 3, 480, 640)\n",
      "\n",
      "0: 480x640 1 person, 184.0ms\n",
      "Speed: 3.0ms preprocess, 184.0ms inference, 3.0ms postprocess per image at shape (1, 3, 480, 640)\n",
      "\n",
      "0: 480x640 1 person, 188.0ms\n",
      "Speed: 4.0ms preprocess, 188.0ms inference, 3.0ms postprocess per image at shape (1, 3, 480, 640)\n",
      "\n",
      "0: 480x640 1 person, 197.0ms\n",
      "Speed: 3.0ms preprocess, 197.0ms inference, 2.0ms postprocess per image at shape (1, 3, 480, 640)\n",
      "\n",
      "0: 480x640 1 person, 191.0ms\n",
      "Speed: 3.0ms preprocess, 191.0ms inference, 4.0ms postprocess per image at shape (1, 3, 480, 640)\n",
      "\n",
      "0: 480x640 1 person, 191.0ms\n",
      "Speed: 3.0ms preprocess, 191.0ms inference, 3.0ms postprocess per image at shape (1, 3, 480, 640)\n",
      "\n",
      "0: 480x640 1 person, 190.0ms\n",
      "Speed: 2.0ms preprocess, 190.0ms inference, 3.0ms postprocess per image at shape (1, 3, 480, 640)\n",
      "\n",
      "0: 480x640 1 person, 197.0ms\n",
      "Speed: 3.0ms preprocess, 197.0ms inference, 3.0ms postprocess per image at shape (1, 3, 480, 640)\n",
      "\n",
      "0: 480x640 1 person, 199.0ms\n",
      "Speed: 3.0ms preprocess, 199.0ms inference, 3.0ms postprocess per image at shape (1, 3, 480, 640)\n",
      "\n",
      "0: 480x640 1 person, 198.0ms\n",
      "Speed: 3.0ms preprocess, 198.0ms inference, 3.0ms postprocess per image at shape (1, 3, 480, 640)\n",
      "\n",
      "0: 480x640 1 person, 200.0ms\n",
      "Speed: 2.0ms preprocess, 200.0ms inference, 4.0ms postprocess per image at shape (1, 3, 480, 640)\n",
      "\n",
      "0: 480x640 1 person, 210.0ms\n",
      "Speed: 2.0ms preprocess, 210.0ms inference, 3.0ms postprocess per image at shape (1, 3, 480, 640)\n",
      "\n",
      "0: 480x640 1 person, 204.0ms\n",
      "Speed: 4.0ms preprocess, 204.0ms inference, 3.0ms postprocess per image at shape (1, 3, 480, 640)\n",
      "\n",
      "0: 480x640 1 person, 192.0ms\n",
      "Speed: 4.0ms preprocess, 192.0ms inference, 4.0ms postprocess per image at shape (1, 3, 480, 640)\n",
      "\n",
      "0: 480x640 1 person, 194.0ms\n",
      "Speed: 4.0ms preprocess, 194.0ms inference, 3.0ms postprocess per image at shape (1, 3, 480, 640)\n",
      "\n",
      "0: 480x640 1 person, 194.0ms\n",
      "Speed: 2.0ms preprocess, 194.0ms inference, 3.0ms postprocess per image at shape (1, 3, 480, 640)\n",
      "\n",
      "0: 480x640 1 person, 201.0ms\n",
      "Speed: 3.0ms preprocess, 201.0ms inference, 3.0ms postprocess per image at shape (1, 3, 480, 640)\n",
      "\n",
      "0: 480x640 1 person, 207.0ms\n",
      "Speed: 4.0ms preprocess, 207.0ms inference, 3.0ms postprocess per image at shape (1, 3, 480, 640)\n",
      "\n",
      "0: 480x640 1 person, 197.0ms\n",
      "Speed: 7.0ms preprocess, 197.0ms inference, 5.0ms postprocess per image at shape (1, 3, 480, 640)\n"
     ]
    }
   ],
   "source": [
    "\n",
    "\n",
    "\n",
    "##### 영상파일 및 비디오로 저장시 ####\n",
    "# 영상 파일 경로\n",
    "# video_path = './yolotestset_20240522/testVideo.mp4'\n",
    "# output_path = './yolotestset_20240522/output_video_yolo.mp4'\n",
    "# capture = cv2.VideoCapture(video_path)\n",
    "# fps = 30  # 저장할 동영상의 프레임 속도 (FPS)\n",
    "# fcc = cv2.VideoWriter_fourcc(*'mp4v')\n",
    "# video = cv2.VideoWriter(output_path, fcc, fps, (frame_width,frame_height))\n",
    "####################################\n",
    "\n",
    "##### 웹캠 연동 시 #######################################\n",
    "capture = cv2.VideoCapture(0)\n",
    "frame_width = int(capture.get(cv2.CAP_PROP_FRAME_WIDTH))\n",
    "frame_height = int(capture.get(cv2.CAP_PROP_FRAME_HEIGHT))\n",
    "##########################################################\n",
    "\n",
    "# 프레임을 하나씩 읽어와서 저장\n",
    "while capture.isOpened():\n",
    "    ret, frame = capture.read()\n",
    "    if ret:\n",
    "        detection = loadedModel( frame )[0]\n",
    "        boxInfos = detection.boxes.data.tolist()\n",
    "        for i in range(0, len(boxInfos)):\n",
    "            # 디버깅 포인트 반복문을 돌리기 위해 내부 코드 까보기\n",
    "            data = boxInfos[i]\n",
    "            # 좌표체계 확인\n",
    "            xone = int(data[0])\n",
    "            yone = int(data[1])\n",
    "            xtwo = int(data[2])\n",
    "            ytwo = int(data[3])\n",
    "            cv2.rectangle( frame,\n",
    "                        (xone, yone),\n",
    "                        (xtwo, ytwo),\n",
    "                        (0,255,0),\n",
    "                        2)\n",
    "            # 클래스 가져오기\n",
    "            ## data [xone, yone, xtwo, ytwo, confidence, class, ]\n",
    "            classIndex = int( data[5] )\n",
    "            className = loadedModel.names\n",
    "            textValue = className[ classIndex ]\n",
    "            ### confidence_scre\n",
    "            confidenceScore = str( round( data[4], 2) )\n",
    "            putTextValue = textValue+\"_\"+confidenceScore\n",
    "            putTextValue\n",
    "            cv2.putText(frame,\n",
    "                        putTextValue,\n",
    "                        (xone, yone),\n",
    "                        cv2.FONT_HERSHEY_SIMPLEX,\n",
    "                        1,\n",
    "                        (255,255,255),\n",
    "                        2)\n",
    "        ############## 웹캠 연동 시 ###################\n",
    "        # 33ms마다 업데이트 단 코드 수행시간 고려 향후 튜닝\n",
    "        k = cv2.waitKey(33)\n",
    "        # esc 누르면 종료!\n",
    "        if k == 27: \n",
    "            break\n",
    "        cv2.imshow(\"frame\",frame)\n",
    "        ###############################################\n",
    "\n",
    "        ############# 비디오 저장 시 ####################\n",
    "        # video.write(frame)\n",
    "        ################################################\n",
    "    else:\n",
    "        break\n",
    "\n",
    "# 비디오 캡처 및 라이터 객체 해제\n",
    "capture.release()\n",
    "# video.release()\n",
    "cv2.destroyAllWindows()"
   ]
  },
  {
   "cell_type": "code",
   "execution_count": null,
   "metadata": {
    "executionInfo": {
     "elapsed": 23,
     "status": "aborted",
     "timestamp": 1716356649687,
     "user": {
      "displayName": "HK CODE",
      "userId": "00117506600363457025"
     },
     "user_tz": -540
    },
    "id": "RsV2eEOCHjgS"
   },
   "outputs": [],
   "source": []
  },
  {
   "cell_type": "code",
   "execution_count": null,
   "metadata": {
    "executionInfo": {
     "elapsed": 22,
     "status": "aborted",
     "timestamp": 1716356649687,
     "user": {
      "displayName": "HK CODE",
      "userId": "00117506600363457025"
     },
     "user_tz": -540
    },
    "id": "4DhDIBM1Hjdr"
   },
   "outputs": [],
   "source": []
  },
  {
   "cell_type": "code",
   "execution_count": null,
   "metadata": {
    "executionInfo": {
     "elapsed": 22,
     "status": "aborted",
     "timestamp": 1716356649687,
     "user": {
      "displayName": "HK CODE",
      "userId": "00117506600363457025"
     },
     "user_tz": -540
    },
    "id": "NNyhxh2xHjbE"
   },
   "outputs": [],
   "source": []
  },
  {
   "cell_type": "code",
   "execution_count": null,
   "metadata": {
    "executionInfo": {
     "elapsed": 23,
     "status": "aborted",
     "timestamp": 1716356649688,
     "user": {
      "displayName": "HK CODE",
      "userId": "00117506600363457025"
     },
     "user_tz": -540
    },
    "id": "rn2f8F6tHjYr"
   },
   "outputs": [],
   "source": []
  },
  {
   "cell_type": "code",
   "execution_count": null,
   "metadata": {
    "executionInfo": {
     "elapsed": 22,
     "status": "aborted",
     "timestamp": 1716356649688,
     "user": {
      "displayName": "HK CODE",
      "userId": "00117506600363457025"
     },
     "user_tz": -540
    },
    "id": "UilFJqR_GfIV"
   },
   "outputs": [],
   "source": []
  },
  {
   "cell_type": "code",
   "execution_count": null,
   "metadata": {
    "executionInfo": {
     "elapsed": 22,
     "status": "aborted",
     "timestamp": 1716356649688,
     "user": {
      "displayName": "HK CODE",
      "userId": "00117506600363457025"
     },
     "user_tz": -540
    },
    "id": "t3UzaoL8EsEd"
   },
   "outputs": [],
   "source": [
    "plt.imshow(frame)"
   ]
  },
  {
   "cell_type": "code",
   "execution_count": null,
   "metadata": {
    "executionInfo": {
     "elapsed": 23,
     "status": "aborted",
     "timestamp": 1716356649689,
     "user": {
      "displayName": "HK CODE",
      "userId": "00117506600363457025"
     },
     "user_tz": -540
    },
    "id": "uW6stOKEEsCB"
   },
   "outputs": [],
   "source": []
  },
  {
   "cell_type": "code",
   "execution_count": null,
   "metadata": {
    "executionInfo": {
     "elapsed": 23,
     "status": "aborted",
     "timestamp": 1716356649689,
     "user": {
      "displayName": "HK CODE",
      "userId": "00117506600363457025"
     },
     "user_tz": -540
    },
    "id": "_axm_HpnEr_g"
   },
   "outputs": [],
   "source": []
  },
  {
   "cell_type": "code",
   "execution_count": null,
   "metadata": {
    "executionInfo": {
     "elapsed": 23,
     "status": "aborted",
     "timestamp": 1716356649689,
     "user": {
      "displayName": "HK CODE",
      "userId": "00117506600363457025"
     },
     "user_tz": -540
    },
    "id": "mBfpOgh96YX2"
   },
   "outputs": [],
   "source": [
    "# import pandas as pd\n",
    "# pd.DataFrame( grayImg )"
   ]
  },
  {
   "cell_type": "code",
   "execution_count": null,
   "metadata": {
    "executionInfo": {
     "elapsed": 22,
     "status": "aborted",
     "timestamp": 1716356649689,
     "user": {
      "displayName": "HK CODE",
      "userId": "00117506600363457025"
     },
     "user_tz": -540
    },
    "id": "ZOw4DeRe4_wv"
   },
   "outputs": [],
   "source": []
  },
  {
   "cell_type": "code",
   "execution_count": null,
   "metadata": {
    "executionInfo": {
     "elapsed": 23,
     "status": "aborted",
     "timestamp": 1716356649690,
     "user": {
      "displayName": "HK CODE",
      "userId": "00117506600363457025"
     },
     "user_tz": -540
    },
    "id": "UlOKI0xl2NhZ"
   },
   "outputs": [],
   "source": [
    "result = loadedModel( imgPath )[0]"
   ]
  },
  {
   "cell_type": "code",
   "execution_count": null,
   "metadata": {
    "executionInfo": {
     "elapsed": 23,
     "status": "aborted",
     "timestamp": 1716356649690,
     "user": {
      "displayName": "HK CODE",
      "userId": "00117506600363457025"
     },
     "user_tz": -540
    },
    "id": "b1RR02X3290k"
   },
   "outputs": [],
   "source": [
    "result = loadedModel( imgPath )[0]"
   ]
  },
  {
   "cell_type": "code",
   "execution_count": null,
   "metadata": {
    "executionInfo": {
     "elapsed": 23,
     "status": "aborted",
     "timestamp": 1716356649690,
     "user": {
      "displayName": "HK CODE",
      "userId": "00117506600363457025"
     },
     "user_tz": -540
    },
    "id": "7xNRsihQ2mcB"
   },
   "outputs": [],
   "source": [
    "# 예측결과\n",
    "result.plot()"
   ]
  },
  {
   "cell_type": "code",
   "execution_count": null,
   "metadata": {
    "executionInfo": {
     "elapsed": 24,
     "status": "aborted",
     "timestamp": 1716356649691,
     "user": {
      "displayName": "HK CODE",
      "userId": "00117506600363457025"
     },
     "user_tz": -540
    },
    "id": "z0PXIKHk2_kw"
   },
   "outputs": [],
   "source": []
  }
 ],
 "metadata": {
  "colab": {
   "authorship_tag": "ABX9TyNqZ5hUQpl8f37UMbaqjDI2",
   "provenance": []
  },
  "kernelspec": {
   "display_name": "Python 3 (ipykernel)",
   "language": "python",
   "name": "python3"
  },
  "language_info": {
   "codemirror_mode": {
    "name": "ipython",
    "version": 3
   },
   "file_extension": ".py",
   "mimetype": "text/x-python",
   "name": "python",
   "nbconvert_exporter": "python",
   "pygments_lexer": "ipython3",
   "version": "3.10.11"
  }
 },
 "nbformat": 4,
 "nbformat_minor": 4
}
