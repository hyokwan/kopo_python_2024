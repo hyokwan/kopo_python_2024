{
  "nbformat": 4,
  "nbformat_minor": 0,
  "metadata": {
    "colab": {
      "provenance": []
    },
    "kernelspec": {
      "name": "python3",
      "display_name": "Python 3"
    },
    "language_info": {
      "name": "python"
    }
  },
  "cells": [
    {
      "cell_type": "markdown",
      "source": [
        "#### 머신러닝"
      ],
      "metadata": {
        "id": "-2sD9JqLduu7"
      }
    },
    {
      "cell_type": "markdown",
      "source": [
        "### 라이브러리 선언 및 데이터 불러오기"
      ],
      "metadata": {
        "id": "WugZUCpGeT78"
      }
    },
    {
      "cell_type": "code",
      "source": [
        "import pandas as pd\n",
        "from sklearn import tree\n",
        "from sklearn.tree import plot_tree\n",
        "import pickle"
      ],
      "metadata": {
        "id": "uMqMl0s0eWya"
      },
      "execution_count": 59,
      "outputs": []
    },
    {
      "cell_type": "code",
      "source": [
        "from sklearn.model_selection import train_test_split"
      ],
      "metadata": {
        "id": "PdGSet9ahCJv"
      },
      "execution_count": 34,
      "outputs": []
    },
    {
      "cell_type": "code",
      "source": [
        "dataUrl = \"https://raw.githubusercontent.com/hyokwan/python-lecture/master/dataset/feature_regression_example.csv\""
      ],
      "metadata": {
        "id": "1qTeBx63e1pb"
      },
      "execution_count": 3,
      "outputs": []
    },
    {
      "cell_type": "code",
      "source": [
        "featuresData = pd.read_csv(dataUrl)\n",
        "featuresData.head(2)"
      ],
      "metadata": {
        "colab": {
          "base_uri": "https://localhost:8080/",
          "height": 132
        },
        "id": "6JAEVCMYea9d",
        "outputId": "f103699f-046b-4eb4-f3a6-5bde7a5362bb"
      },
      "execution_count": 6,
      "outputs": [
        {
          "output_type": "execute_result",
          "data": {
            "text/plain": [
              "         REGIONID PRODUCTGROUP      PRODUCT      ITEM  YEARWEEK  YEAR  WEEK  \\\n",
              "0  SEOUL_BANK_001         PG02  PRODUCT0010  ITEM0115    201501  2015     1   \n",
              "1  SEOUL_BANK_001         PG02  PRODUCT0010  ITEM0115    201502  2015     2   \n",
              "\n",
              "    QTY HOLIDAY  HCLUS PROMOTION  PRO_PERCENT  \n",
              "0  1225       Y      1         Y     0.209442  \n",
              "1   968       N      4         Y     0.209442  "
            ],
            "text/html": [
              "\n",
              "  <div id=\"df-d8a423b5-462c-4273-bae1-76a2d14f46e9\" class=\"colab-df-container\">\n",
              "    <div>\n",
              "<style scoped>\n",
              "    .dataframe tbody tr th:only-of-type {\n",
              "        vertical-align: middle;\n",
              "    }\n",
              "\n",
              "    .dataframe tbody tr th {\n",
              "        vertical-align: top;\n",
              "    }\n",
              "\n",
              "    .dataframe thead th {\n",
              "        text-align: right;\n",
              "    }\n",
              "</style>\n",
              "<table border=\"1\" class=\"dataframe\">\n",
              "  <thead>\n",
              "    <tr style=\"text-align: right;\">\n",
              "      <th></th>\n",
              "      <th>REGIONID</th>\n",
              "      <th>PRODUCTGROUP</th>\n",
              "      <th>PRODUCT</th>\n",
              "      <th>ITEM</th>\n",
              "      <th>YEARWEEK</th>\n",
              "      <th>YEAR</th>\n",
              "      <th>WEEK</th>\n",
              "      <th>QTY</th>\n",
              "      <th>HOLIDAY</th>\n",
              "      <th>HCLUS</th>\n",
              "      <th>PROMOTION</th>\n",
              "      <th>PRO_PERCENT</th>\n",
              "    </tr>\n",
              "  </thead>\n",
              "  <tbody>\n",
              "    <tr>\n",
              "      <th>0</th>\n",
              "      <td>SEOUL_BANK_001</td>\n",
              "      <td>PG02</td>\n",
              "      <td>PRODUCT0010</td>\n",
              "      <td>ITEM0115</td>\n",
              "      <td>201501</td>\n",
              "      <td>2015</td>\n",
              "      <td>1</td>\n",
              "      <td>1225</td>\n",
              "      <td>Y</td>\n",
              "      <td>1</td>\n",
              "      <td>Y</td>\n",
              "      <td>0.209442</td>\n",
              "    </tr>\n",
              "    <tr>\n",
              "      <th>1</th>\n",
              "      <td>SEOUL_BANK_001</td>\n",
              "      <td>PG02</td>\n",
              "      <td>PRODUCT0010</td>\n",
              "      <td>ITEM0115</td>\n",
              "      <td>201502</td>\n",
              "      <td>2015</td>\n",
              "      <td>2</td>\n",
              "      <td>968</td>\n",
              "      <td>N</td>\n",
              "      <td>4</td>\n",
              "      <td>Y</td>\n",
              "      <td>0.209442</td>\n",
              "    </tr>\n",
              "  </tbody>\n",
              "</table>\n",
              "</div>\n",
              "    <div class=\"colab-df-buttons\">\n",
              "\n",
              "  <div class=\"colab-df-container\">\n",
              "    <button class=\"colab-df-convert\" onclick=\"convertToInteractive('df-d8a423b5-462c-4273-bae1-76a2d14f46e9')\"\n",
              "            title=\"Convert this dataframe to an interactive table.\"\n",
              "            style=\"display:none;\">\n",
              "\n",
              "  <svg xmlns=\"http://www.w3.org/2000/svg\" height=\"24px\" viewBox=\"0 -960 960 960\">\n",
              "    <path d=\"M120-120v-720h720v720H120Zm60-500h600v-160H180v160Zm220 220h160v-160H400v160Zm0 220h160v-160H400v160ZM180-400h160v-160H180v160Zm440 0h160v-160H620v160ZM180-180h160v-160H180v160Zm440 0h160v-160H620v160Z\"/>\n",
              "  </svg>\n",
              "    </button>\n",
              "\n",
              "  <style>\n",
              "    .colab-df-container {\n",
              "      display:flex;\n",
              "      gap: 12px;\n",
              "    }\n",
              "\n",
              "    .colab-df-convert {\n",
              "      background-color: #E8F0FE;\n",
              "      border: none;\n",
              "      border-radius: 50%;\n",
              "      cursor: pointer;\n",
              "      display: none;\n",
              "      fill: #1967D2;\n",
              "      height: 32px;\n",
              "      padding: 0 0 0 0;\n",
              "      width: 32px;\n",
              "    }\n",
              "\n",
              "    .colab-df-convert:hover {\n",
              "      background-color: #E2EBFA;\n",
              "      box-shadow: 0px 1px 2px rgba(60, 64, 67, 0.3), 0px 1px 3px 1px rgba(60, 64, 67, 0.15);\n",
              "      fill: #174EA6;\n",
              "    }\n",
              "\n",
              "    .colab-df-buttons div {\n",
              "      margin-bottom: 4px;\n",
              "    }\n",
              "\n",
              "    [theme=dark] .colab-df-convert {\n",
              "      background-color: #3B4455;\n",
              "      fill: #D2E3FC;\n",
              "    }\n",
              "\n",
              "    [theme=dark] .colab-df-convert:hover {\n",
              "      background-color: #434B5C;\n",
              "      box-shadow: 0px 1px 3px 1px rgba(0, 0, 0, 0.15);\n",
              "      filter: drop-shadow(0px 1px 2px rgba(0, 0, 0, 0.3));\n",
              "      fill: #FFFFFF;\n",
              "    }\n",
              "  </style>\n",
              "\n",
              "    <script>\n",
              "      const buttonEl =\n",
              "        document.querySelector('#df-d8a423b5-462c-4273-bae1-76a2d14f46e9 button.colab-df-convert');\n",
              "      buttonEl.style.display =\n",
              "        google.colab.kernel.accessAllowed ? 'block' : 'none';\n",
              "\n",
              "      async function convertToInteractive(key) {\n",
              "        const element = document.querySelector('#df-d8a423b5-462c-4273-bae1-76a2d14f46e9');\n",
              "        const dataTable =\n",
              "          await google.colab.kernel.invokeFunction('convertToInteractive',\n",
              "                                                    [key], {});\n",
              "        if (!dataTable) return;\n",
              "\n",
              "        const docLinkHtml = 'Like what you see? Visit the ' +\n",
              "          '<a target=\"_blank\" href=https://colab.research.google.com/notebooks/data_table.ipynb>data table notebook</a>'\n",
              "          + ' to learn more about interactive tables.';\n",
              "        element.innerHTML = '';\n",
              "        dataTable['output_type'] = 'display_data';\n",
              "        await google.colab.output.renderOutput(dataTable, element);\n",
              "        const docLink = document.createElement('div');\n",
              "        docLink.innerHTML = docLinkHtml;\n",
              "        element.appendChild(docLink);\n",
              "      }\n",
              "    </script>\n",
              "  </div>\n",
              "\n",
              "\n",
              "<div id=\"df-7375e0f4-494c-45ac-8150-1a04e91376ca\">\n",
              "  <button class=\"colab-df-quickchart\" onclick=\"quickchart('df-7375e0f4-494c-45ac-8150-1a04e91376ca')\"\n",
              "            title=\"Suggest charts\"\n",
              "            style=\"display:none;\">\n",
              "\n",
              "<svg xmlns=\"http://www.w3.org/2000/svg\" height=\"24px\"viewBox=\"0 0 24 24\"\n",
              "     width=\"24px\">\n",
              "    <g>\n",
              "        <path d=\"M19 3H5c-1.1 0-2 .9-2 2v14c0 1.1.9 2 2 2h14c1.1 0 2-.9 2-2V5c0-1.1-.9-2-2-2zM9 17H7v-7h2v7zm4 0h-2V7h2v10zm4 0h-2v-4h2v4z\"/>\n",
              "    </g>\n",
              "</svg>\n",
              "  </button>\n",
              "\n",
              "<style>\n",
              "  .colab-df-quickchart {\n",
              "      --bg-color: #E8F0FE;\n",
              "      --fill-color: #1967D2;\n",
              "      --hover-bg-color: #E2EBFA;\n",
              "      --hover-fill-color: #174EA6;\n",
              "      --disabled-fill-color: #AAA;\n",
              "      --disabled-bg-color: #DDD;\n",
              "  }\n",
              "\n",
              "  [theme=dark] .colab-df-quickchart {\n",
              "      --bg-color: #3B4455;\n",
              "      --fill-color: #D2E3FC;\n",
              "      --hover-bg-color: #434B5C;\n",
              "      --hover-fill-color: #FFFFFF;\n",
              "      --disabled-bg-color: #3B4455;\n",
              "      --disabled-fill-color: #666;\n",
              "  }\n",
              "\n",
              "  .colab-df-quickchart {\n",
              "    background-color: var(--bg-color);\n",
              "    border: none;\n",
              "    border-radius: 50%;\n",
              "    cursor: pointer;\n",
              "    display: none;\n",
              "    fill: var(--fill-color);\n",
              "    height: 32px;\n",
              "    padding: 0;\n",
              "    width: 32px;\n",
              "  }\n",
              "\n",
              "  .colab-df-quickchart:hover {\n",
              "    background-color: var(--hover-bg-color);\n",
              "    box-shadow: 0 1px 2px rgba(60, 64, 67, 0.3), 0 1px 3px 1px rgba(60, 64, 67, 0.15);\n",
              "    fill: var(--button-hover-fill-color);\n",
              "  }\n",
              "\n",
              "  .colab-df-quickchart-complete:disabled,\n",
              "  .colab-df-quickchart-complete:disabled:hover {\n",
              "    background-color: var(--disabled-bg-color);\n",
              "    fill: var(--disabled-fill-color);\n",
              "    box-shadow: none;\n",
              "  }\n",
              "\n",
              "  .colab-df-spinner {\n",
              "    border: 2px solid var(--fill-color);\n",
              "    border-color: transparent;\n",
              "    border-bottom-color: var(--fill-color);\n",
              "    animation:\n",
              "      spin 1s steps(1) infinite;\n",
              "  }\n",
              "\n",
              "  @keyframes spin {\n",
              "    0% {\n",
              "      border-color: transparent;\n",
              "      border-bottom-color: var(--fill-color);\n",
              "      border-left-color: var(--fill-color);\n",
              "    }\n",
              "    20% {\n",
              "      border-color: transparent;\n",
              "      border-left-color: var(--fill-color);\n",
              "      border-top-color: var(--fill-color);\n",
              "    }\n",
              "    30% {\n",
              "      border-color: transparent;\n",
              "      border-left-color: var(--fill-color);\n",
              "      border-top-color: var(--fill-color);\n",
              "      border-right-color: var(--fill-color);\n",
              "    }\n",
              "    40% {\n",
              "      border-color: transparent;\n",
              "      border-right-color: var(--fill-color);\n",
              "      border-top-color: var(--fill-color);\n",
              "    }\n",
              "    60% {\n",
              "      border-color: transparent;\n",
              "      border-right-color: var(--fill-color);\n",
              "    }\n",
              "    80% {\n",
              "      border-color: transparent;\n",
              "      border-right-color: var(--fill-color);\n",
              "      border-bottom-color: var(--fill-color);\n",
              "    }\n",
              "    90% {\n",
              "      border-color: transparent;\n",
              "      border-bottom-color: var(--fill-color);\n",
              "    }\n",
              "  }\n",
              "</style>\n",
              "\n",
              "  <script>\n",
              "    async function quickchart(key) {\n",
              "      const quickchartButtonEl =\n",
              "        document.querySelector('#' + key + ' button');\n",
              "      quickchartButtonEl.disabled = true;  // To prevent multiple clicks.\n",
              "      quickchartButtonEl.classList.add('colab-df-spinner');\n",
              "      try {\n",
              "        const charts = await google.colab.kernel.invokeFunction(\n",
              "            'suggestCharts', [key], {});\n",
              "      } catch (error) {\n",
              "        console.error('Error during call to suggestCharts:', error);\n",
              "      }\n",
              "      quickchartButtonEl.classList.remove('colab-df-spinner');\n",
              "      quickchartButtonEl.classList.add('colab-df-quickchart-complete');\n",
              "    }\n",
              "    (() => {\n",
              "      let quickchartButtonEl =\n",
              "        document.querySelector('#df-7375e0f4-494c-45ac-8150-1a04e91376ca button');\n",
              "      quickchartButtonEl.style.display =\n",
              "        google.colab.kernel.accessAllowed ? 'block' : 'none';\n",
              "    })();\n",
              "  </script>\n",
              "</div>\n",
              "\n",
              "    </div>\n",
              "  </div>\n"
            ],
            "application/vnd.google.colaboratory.intrinsic+json": {
              "type": "dataframe",
              "variable_name": "featuresData",
              "summary": "{\n  \"name\": \"featuresData\",\n  \"rows\": 105,\n  \"fields\": [\n    {\n      \"column\": \"REGIONID\",\n      \"properties\": {\n        \"dtype\": \"category\",\n        \"num_unique_values\": 1,\n        \"samples\": [\n          \"SEOUL_BANK_001\"\n        ],\n        \"semantic_type\": \"\",\n        \"description\": \"\"\n      }\n    },\n    {\n      \"column\": \"PRODUCTGROUP\",\n      \"properties\": {\n        \"dtype\": \"category\",\n        \"num_unique_values\": 1,\n        \"samples\": [\n          \"PG02\"\n        ],\n        \"semantic_type\": \"\",\n        \"description\": \"\"\n      }\n    },\n    {\n      \"column\": \"PRODUCT\",\n      \"properties\": {\n        \"dtype\": \"category\",\n        \"num_unique_values\": 1,\n        \"samples\": [\n          \"PRODUCT0010\"\n        ],\n        \"semantic_type\": \"\",\n        \"description\": \"\"\n      }\n    },\n    {\n      \"column\": \"ITEM\",\n      \"properties\": {\n        \"dtype\": \"category\",\n        \"num_unique_values\": 1,\n        \"samples\": [\n          \"ITEM0115\"\n        ],\n        \"semantic_type\": \"\",\n        \"description\": \"\"\n      }\n    },\n    {\n      \"column\": \"YEARWEEK\",\n      \"properties\": {\n        \"dtype\": \"number\",\n        \"std\": 52,\n        \"min\": 201501,\n        \"max\": 201652,\n        \"num_unique_values\": 105,\n        \"samples\": [\n          201531\n        ],\n        \"semantic_type\": \"\",\n        \"description\": \"\"\n      }\n    },\n    {\n      \"column\": \"YEAR\",\n      \"properties\": {\n        \"dtype\": \"number\",\n        \"std\": 0,\n        \"min\": 2015,\n        \"max\": 2016,\n        \"num_unique_values\": 2,\n        \"samples\": [\n          2016\n        ],\n        \"semantic_type\": \"\",\n        \"description\": \"\"\n      }\n    },\n    {\n      \"column\": \"WEEK\",\n      \"properties\": {\n        \"dtype\": \"number\",\n        \"std\": 15,\n        \"min\": 1,\n        \"max\": 53,\n        \"num_unique_values\": 53,\n        \"samples\": [\n          20\n        ],\n        \"semantic_type\": \"\",\n        \"description\": \"\"\n      }\n    },\n    {\n      \"column\": \"QTY\",\n      \"properties\": {\n        \"dtype\": \"number\",\n        \"std\": 820,\n        \"min\": 15,\n        \"max\": 4035,\n        \"num_unique_values\": 100,\n        \"samples\": [\n          1514\n        ],\n        \"semantic_type\": \"\",\n        \"description\": \"\"\n      }\n    },\n    {\n      \"column\": \"HOLIDAY\",\n      \"properties\": {\n        \"dtype\": \"category\",\n        \"num_unique_values\": 2,\n        \"samples\": [\n          \"N\"\n        ],\n        \"semantic_type\": \"\",\n        \"description\": \"\"\n      }\n    },\n    {\n      \"column\": \"HCLUS\",\n      \"properties\": {\n        \"dtype\": \"number\",\n        \"std\": 1,\n        \"min\": 0,\n        \"max\": 4,\n        \"num_unique_values\": 4,\n        \"samples\": [\n          4\n        ],\n        \"semantic_type\": \"\",\n        \"description\": \"\"\n      }\n    },\n    {\n      \"column\": \"PROMOTION\",\n      \"properties\": {\n        \"dtype\": \"category\",\n        \"num_unique_values\": 2,\n        \"samples\": [\n          \"N\"\n        ],\n        \"semantic_type\": \"\",\n        \"description\": \"\"\n      }\n    },\n    {\n      \"column\": \"PRO_PERCENT\",\n      \"properties\": {\n        \"dtype\": \"number\",\n        \"std\": 0.12863568869931824,\n        \"min\": 0.0,\n        \"max\": 0.421888412,\n        \"num_unique_values\": 9,\n        \"samples\": [\n          0.421888412\n        ],\n        \"semantic_type\": \"\",\n        \"description\": \"\"\n      }\n    }\n  ]\n}"
            }
          },
          "metadata": {},
          "execution_count": 6
        }
      ]
    },
    {
      "cell_type": "markdown",
      "source": [
        "### 1. 데이터 통합 및 숫자컬럼 추가"
      ],
      "metadata": {
        "id": "1IIgsXLGeHNN"
      }
    },
    {
      "cell_type": "code",
      "source": [
        "# 데이터타입 통합 SKIP"
      ],
      "metadata": {
        "id": "mGJPOc8gfqqN"
      },
      "execution_count": 11,
      "outputs": []
    },
    {
      "cell_type": "code",
      "source": [
        "ynDict = {\"Y\":1, \"N\":0}"
      ],
      "metadata": {
        "id": "qGUavdSefG-v"
      },
      "execution_count": 7,
      "outputs": []
    },
    {
      "cell_type": "code",
      "source": [
        "featuresData[\"LE_PROMOTION\"] = featuresData.PROMOTION.map(ynDict)\n",
        "featuresData[\"LE_HOLIDAY\"] = featuresData.HOLIDAY.map(ynDict)"
      ],
      "metadata": {
        "id": "ANInsb0KfSTU"
      },
      "execution_count": 10,
      "outputs": []
    },
    {
      "cell_type": "markdown",
      "source": [
        "### 2. 특성 선정 및 데이터 분리"
      ],
      "metadata": {
        "id": "sbQbDl7VeKXE"
      }
    },
    {
      "cell_type": "code",
      "source": [
        "corrStd = 0.5"
      ],
      "metadata": {
        "id": "IofEW-R0f1J8"
      },
      "execution_count": 12,
      "outputs": []
    },
    {
      "cell_type": "code",
      "source": [
        "corrDf = featuresData.corr(numeric_only=True)"
      ],
      "metadata": {
        "id": "Z_mkXqNzf4Mn"
      },
      "execution_count": 17,
      "outputs": []
    },
    {
      "cell_type": "code",
      "source": [
        "label = [\"QTY\"]"
      ],
      "metadata": {
        "id": "9Yd13ZGUf4Gk"
      },
      "execution_count": 20,
      "outputs": []
    },
    {
      "cell_type": "code",
      "source": [
        "# 정답지와 상관계수가 설정값 ( 0.5 ) 보다 큰 feature를 자동으로 찾는 코드\n",
        "features = list( corrDf.loc[  ( abs( corrDf[\"QTY\"] )  > corrStd ) &\n",
        "             (corrDf[\"QTY\"] != 1) ].index )"
      ],
      "metadata": {
        "id": "g0c4XzomgOKE"
      },
      "execution_count": 33,
      "outputs": []
    },
    {
      "cell_type": "code",
      "source": [
        "randomValue = 30\n",
        "testSizeRatio = 0.2"
      ],
      "metadata": {
        "id": "8CQ06Qv-hPF9"
      },
      "execution_count": 38,
      "outputs": []
    },
    {
      "cell_type": "code",
      "source": [
        "trainData, testData = train_test_split( featuresData,\n",
        "                                        random_state=randomValue, test_size=testSizeRatio  )"
      ],
      "metadata": {
        "id": "GfwwrbRegOHT"
      },
      "execution_count": 39,
      "outputs": []
    },
    {
      "cell_type": "code",
      "source": [
        "trainDataFeatures = trainData.loc[ :, features ]\n",
        "trainDataLabel = trainData.loc[ :, label ]\n",
        "testDataFeatures = testData.loc[ :, features ]\n",
        "testDataLabel = testData.loc[ :, label ]"
      ],
      "metadata": {
        "id": "dS62kipMhckl"
      },
      "execution_count": 40,
      "outputs": []
    },
    {
      "cell_type": "code",
      "source": [
        "print( trainDataFeatures.shape )\n",
        "print( trainDataLabel.shape )\n",
        "print( testDataFeatures.shape )\n",
        "print( testDataLabel.shape )"
      ],
      "metadata": {
        "colab": {
          "base_uri": "https://localhost:8080/"
        },
        "id": "SO8pfmjyhom3",
        "outputId": "f5eb6a5d-e893-4581-a30d-34c1f1d698e3"
      },
      "execution_count": 41,
      "outputs": [
        {
          "output_type": "stream",
          "name": "stdout",
          "text": [
            "(84, 4)\n",
            "(84, 1)\n",
            "(21, 4)\n",
            "(21, 1)\n"
          ]
        }
      ]
    },
    {
      "cell_type": "markdown",
      "source": [
        "### 3. 모델 정의 및 훈련"
      ],
      "metadata": {
        "id": "Qm2-h4dNeLV_"
      }
    },
    {
      "cell_type": "code",
      "source": [
        "dtModel = tree.DecisionTreeRegressor(random_state=randomValue)"
      ],
      "metadata": {
        "id": "YCX7GHAyhvjd"
      },
      "execution_count": 44,
      "outputs": []
    },
    {
      "cell_type": "code",
      "source": [
        "fittedModel = dtModel.fit(trainDataFeatures,\n",
        "            trainDataLabel)"
      ],
      "metadata": {
        "id": "zi-ANqMhiYMG"
      },
      "execution_count": 45,
      "outputs": []
    },
    {
      "cell_type": "markdown",
      "source": [
        "### 4. 예측"
      ],
      "metadata": {
        "id": "tacfG01NeN5l"
      }
    },
    {
      "cell_type": "code",
      "source": [
        "features"
      ],
      "metadata": {
        "colab": {
          "base_uri": "https://localhost:8080/"
        },
        "id": "zPgnuL18i5-E",
        "outputId": "f66d9da8-f34f-4888-e88e-8e10d4d64472"
      },
      "execution_count": 51,
      "outputs": [
        {
          "output_type": "execute_result",
          "data": {
            "text/plain": [
              "['HCLUS', 'PRO_PERCENT', 'LE_PROMOTION', 'LE_HOLIDAY']"
            ]
          },
          "metadata": {},
          "execution_count": 51
        }
      ]
    },
    {
      "cell_type": "code",
      "source": [
        "inHclu = 4\n",
        "inPropercent = 0.0\n",
        "inPromtion = 0\n",
        "inHoliday = 0\n",
        "testDf = pd.DataFrame( [[ inHclu, inPropercent, inPromtion, inHoliday   ]] )"
      ],
      "metadata": {
        "id": "SYqZZXnHi7j_"
      },
      "execution_count": 57,
      "outputs": []
    },
    {
      "cell_type": "code",
      "source": [
        "predictValue = fittedModel.predict (testDf)\n",
        "predictValue"
      ],
      "metadata": {
        "colab": {
          "base_uri": "https://localhost:8080/"
        },
        "id": "QVRljmQ7i4qM",
        "outputId": "e103cb17-dd59-45ea-e093-de19ca968d7a"
      },
      "execution_count": 58,
      "outputs": [
        {
          "output_type": "stream",
          "name": "stderr",
          "text": [
            "/usr/local/lib/python3.10/dist-packages/sklearn/base.py:439: UserWarning: X does not have valid feature names, but DecisionTreeRegressor was fitted with feature names\n",
            "  warnings.warn(\n"
          ]
        },
        {
          "output_type": "execute_result",
          "data": {
            "text/plain": [
              "array([362.375])"
            ]
          },
          "metadata": {},
          "execution_count": 58
        }
      ]
    },
    {
      "cell_type": "code",
      "source": [
        "with open(\"./mlcore.dump\", \"wb\") as fw:\n",
        "    pickle.dump(fittedModel, fw)"
      ],
      "metadata": {
        "id": "0KVt-re8jSyt"
      },
      "execution_count": 60,
      "outputs": []
    },
    {
      "cell_type": "code",
      "source": [],
      "metadata": {
        "id": "sy1tDSu9jiUQ"
      },
      "execution_count": null,
      "outputs": []
    },
    {
      "cell_type": "code",
      "source": [],
      "metadata": {
        "id": "5MM-xo4KjiRr"
      },
      "execution_count": null,
      "outputs": []
    },
    {
      "cell_type": "code",
      "source": [],
      "metadata": {
        "id": "q_zNtCxFjiPO"
      },
      "execution_count": null,
      "outputs": []
    },
    {
      "cell_type": "code",
      "source": [],
      "metadata": {
        "id": "gWTFkn6hjiMq"
      },
      "execution_count": null,
      "outputs": []
    },
    {
      "cell_type": "code",
      "source": [],
      "metadata": {
        "id": "LZwdS7TwjiKF"
      },
      "execution_count": null,
      "outputs": []
    },
    {
      "cell_type": "code",
      "source": [],
      "metadata": {
        "id": "sGQb5pjujiHp"
      },
      "execution_count": null,
      "outputs": []
    },
    {
      "cell_type": "code",
      "source": [
        "import matplotlib.pyplot as plt"
      ],
      "metadata": {
        "id": "cXpH1vNuirdl"
      },
      "execution_count": 49,
      "outputs": []
    },
    {
      "cell_type": "code",
      "source": [
        "plt.figure(figsize=(15,5))\n",
        "plot_tree(  fittedModel )"
      ],
      "metadata": {
        "colab": {
          "base_uri": "https://localhost:8080/",
          "height": 1000
        },
        "id": "fAISuGNdit-d",
        "outputId": "f260c8f5-1fbe-4dcd-bb9f-7eae24ce9128"
      },
      "execution_count": 50,
      "outputs": [
        {
          "output_type": "execute_result",
          "data": {
            "text/plain": [
              "[Text(0.39903846153846156, 0.9285714285714286, 'x[1] <= 0.259\\nsquared_error = 678824.471\\nsamples = 84\\nvalue = 1253.202'),\n",
              " Text(0.17307692307692307, 0.7857142857142857, 'x[1] <= 0.104\\nsquared_error = 275912.341\\nsamples = 51\\nvalue = 838.824'),\n",
              " Text(0.07692307692307693, 0.6428571428571429, 'x[0] <= 3.0\\nsquared_error = 65686.055\\nsamples = 17\\nvalue = 341.941'),\n",
              " Text(0.038461538461538464, 0.5, 'squared_error = 0.0\\nsamples = 1\\nvalue = 15.0'),\n",
              " Text(0.11538461538461539, 0.5, 'squared_error = 62693.234\\nsamples = 16\\nvalue = 362.375'),\n",
              " Text(0.2692307692307692, 0.6428571428571429, 'x[0] <= 3.0\\nsquared_error = 195856.43\\nsamples = 34\\nvalue = 1087.265'),\n",
              " Text(0.19230769230769232, 0.5, 'x[1] <= 0.224\\nsquared_error = 200358.691\\nsamples = 9\\nvalue = 1340.556'),\n",
              " Text(0.15384615384615385, 0.35714285714285715, 'x[1] <= 0.209\\nsquared_error = 157896.0\\nsamples = 4\\nvalue = 1126.0'),\n",
              " Text(0.11538461538461539, 0.21428571428571427, 'x[0] <= 1.5\\nsquared_error = 176400.0\\nsamples = 2\\nvalue = 1390.0'),\n",
              " Text(0.07692307692307693, 0.07142857142857142, 'squared_error = 0.0\\nsamples = 1\\nvalue = 970.0'),\n",
              " Text(0.15384615384615385, 0.07142857142857142, 'squared_error = 0.0\\nsamples = 1\\nvalue = 1810.0'),\n",
              " Text(0.19230769230769232, 0.21428571428571427, 'squared_error = 0.0\\nsamples = 2\\nvalue = 862.0'),\n",
              " Text(0.23076923076923078, 0.35714285714285715, 'squared_error = 168039.76\\nsamples = 5\\nvalue = 1512.2'),\n",
              " Text(0.34615384615384615, 0.5, 'x[1] <= 0.209\\nsquared_error = 162824.714\\nsamples = 25\\nvalue = 996.08'),\n",
              " Text(0.3076923076923077, 0.35714285714285715, 'squared_error = 138464.609\\nsamples = 8\\nvalue = 1068.125'),\n",
              " Text(0.38461538461538464, 0.35714285714285715, 'x[1] <= 0.224\\nsquared_error = 170696.263\\nsamples = 17\\nvalue = 962.176'),\n",
              " Text(0.34615384615384615, 0.21428571428571427, 'squared_error = 149292.64\\nsamples = 10\\nvalue = 926.6'),\n",
              " Text(0.4230769230769231, 0.21428571428571427, 'squared_error = 196881.714\\nsamples = 7\\nvalue = 1013.0'),\n",
              " Text(0.625, 0.7857142857142857, 'x[1] <= 0.294\\nsquared_error = 626020.239\\nsamples = 33\\nvalue = 1893.606'),\n",
              " Text(0.46153846153846156, 0.6428571428571429, 'x[0] <= 1.5\\nsquared_error = 768322.992\\nsamples = 11\\nvalue = 2304.091'),\n",
              " Text(0.4230769230769231, 0.5, 'squared_error = 837970.667\\nsamples = 6\\nvalue = 2700.0'),\n",
              " Text(0.5, 0.5, 'x[0] <= 3.0\\nsquared_error = 270941.6\\nsamples = 5\\nvalue = 1829.0'),\n",
              " Text(0.46153846153846156, 0.35714285714285715, 'squared_error = 0.0\\nsamples = 1\\nvalue = 2010.0'),\n",
              " Text(0.5384615384615384, 0.35714285714285715, 'squared_error = 328439.188\\nsamples = 4\\nvalue = 1783.75'),\n",
              " Text(0.7884615384615384, 0.6428571428571429, 'x[1] <= 0.355\\nsquared_error = 428495.504\\nsamples = 22\\nvalue = 1688.364'),\n",
              " Text(0.6923076923076923, 0.5, 'x[1] <= 0.33\\nsquared_error = 176334.05\\nsamples = 11\\nvalue = 1292.636'),\n",
              " Text(0.6153846153846154, 0.35714285714285715, 'x[0] <= 2.5\\nsquared_error = 88011.688\\nsamples = 8\\nvalue = 1364.25'),\n",
              " Text(0.5769230769230769, 0.21428571428571427, 'squared_error = 57558.806\\nsamples = 6\\nvalue = 1436.167'),\n",
              " Text(0.6538461538461539, 0.21428571428571427, 'squared_error = 117306.25\\nsamples = 2\\nvalue = 1148.5'),\n",
              " Text(0.7692307692307693, 0.35714285714285715, 'x[0] <= 2.5\\nsquared_error = 361714.889\\nsamples = 3\\nvalue = 1101.667'),\n",
              " Text(0.7307692307692307, 0.21428571428571427, 'squared_error = 0.0\\nsamples = 1\\nvalue = 332.0'),\n",
              " Text(0.8076923076923077, 0.21428571428571427, 'squared_error = 98282.25\\nsamples = 2\\nvalue = 1486.5'),\n",
              " Text(0.8846153846153846, 0.5, 'x[1] <= 0.39\\nsquared_error = 367456.81\\nsamples = 11\\nvalue = 2084.091'),\n",
              " Text(0.8461538461538461, 0.35714285714285715, 'squared_error = 606109.36\\nsamples = 5\\nvalue = 2193.8'),\n",
              " Text(0.9230769230769231, 0.35714285714285715, 'x[0] <= 2.0\\nsquared_error = 150191.222\\nsamples = 6\\nvalue = 1992.667'),\n",
              " Text(0.8846153846153846, 0.21428571428571427, 'squared_error = 179888.96\\nsamples = 5\\nvalue = 2000.2'),\n",
              " Text(0.9615384615384616, 0.21428571428571427, 'squared_error = 0.0\\nsamples = 1\\nvalue = 1955.0')]"
            ]
          },
          "metadata": {},
          "execution_count": 50
        },
        {
          "output_type": "display_data",
          "data": {
            "text/plain": [
              "<Figure size 1500x500 with 1 Axes>"
            ],
            "image/png": "[encoded data removed]"
          },
          "metadata": {}
        }
      ]
    },
    {
      "cell_type": "code",
      "source": [
        "fittedModel"
      ],
      "metadata": {
        "colab": {
          "base_uri": "https://localhost:8080/",
          "height": 75
        },
        "id": "OVWWCqVAeTSf",
        "outputId": "f3cea7b3-35b5-4d66-844a-af72d1f9c7b5"
      },
      "execution_count": 46,
      "outputs": [
        {
          "output_type": "execute_result",
          "data": {
            "text/plain": [
              "DecisionTreeRegressor(random_state=30)"
            ],
            "text/html": [
              "<style>#sk-container-id-2 {color: black;background-color: white;}#sk-container-id-2 pre{padding: 0;}#sk-container-id-2 div.sk-toggleable {background-color: white;}#sk-container-id-2 label.sk-toggleable__label {cursor: pointer;display: block;width: 100%;margin-bottom: 0;padding: 0.3em;box-sizing: border-box;text-align: center;}#sk-container-id-2 label.sk-toggleable__label-arrow:before {content: \"▸\";float: left;margin-right: 0.25em;color: #696969;}#sk-container-id-2 label.sk-toggleable__label-arrow:hover:before {color: black;}#sk-container-id-2 div.sk-estimator:hover label.sk-toggleable__label-arrow:before {color: black;}#sk-container-id-2 div.sk-toggleable__content {max-height: 0;max-width: 0;overflow: hidden;text-align: left;background-color: #f0f8ff;}#sk-container-id-2 div.sk-toggleable__content pre {margin: 0.2em;color: black;border-radius: 0.25em;background-color: #f0f8ff;}#sk-container-id-2 input.sk-toggleable__control:checked~div.sk-toggleable__content {max-height: 200px;max-width: 100%;overflow: auto;}#sk-container-id-2 input.sk-toggleable__control:checked~label.sk-toggleable__label-arrow:before {content: \"▾\";}#sk-container-id-2 div.sk-estimator input.sk-toggleable__control:checked~label.sk-toggleable__label {background-color: #d4ebff;}#sk-container-id-2 div.sk-label input.sk-toggleable__control:checked~label.sk-toggleable__label {background-color: #d4ebff;}#sk-container-id-2 input.sk-hidden--visually {border: 0;clip: rect(1px 1px 1px 1px);clip: rect(1px, 1px, 1px, 1px);height: 1px;margin: -1px;overflow: hidden;padding: 0;position: absolute;width: 1px;}#sk-container-id-2 div.sk-estimator {font-family: monospace;background-color: #f0f8ff;border: 1px dotted black;border-radius: 0.25em;box-sizing: border-box;margin-bottom: 0.5em;}#sk-container-id-2 div.sk-estimator:hover {background-color: #d4ebff;}#sk-container-id-2 div.sk-parallel-item::after {content: \"\";width: 100%;border-bottom: 1px solid gray;flex-grow: 1;}#sk-container-id-2 div.sk-label:hover label.sk-toggleable__label {background-color: #d4ebff;}#sk-container-id-2 div.sk-serial::before {content: \"\";position: absolute;border-left: 1px solid gray;box-sizing: border-box;top: 0;bottom: 0;left: 50%;z-index: 0;}#sk-container-id-2 div.sk-serial {display: flex;flex-direction: column;align-items: center;background-color: white;padding-right: 0.2em;padding-left: 0.2em;position: relative;}#sk-container-id-2 div.sk-item {position: relative;z-index: 1;}#sk-container-id-2 div.sk-parallel {display: flex;align-items: stretch;justify-content: center;background-color: white;position: relative;}#sk-container-id-2 div.sk-item::before, #sk-container-id-2 div.sk-parallel-item::before {content: \"\";position: absolute;border-left: 1px solid gray;box-sizing: border-box;top: 0;bottom: 0;left: 50%;z-index: -1;}#sk-container-id-2 div.sk-parallel-item {display: flex;flex-direction: column;z-index: 1;position: relative;background-color: white;}#sk-container-id-2 div.sk-parallel-item:first-child::after {align-self: flex-end;width: 50%;}#sk-container-id-2 div.sk-parallel-item:last-child::after {align-self: flex-start;width: 50%;}#sk-container-id-2 div.sk-parallel-item:only-child::after {width: 0;}#sk-container-id-2 div.sk-dashed-wrapped {border: 1px dashed gray;margin: 0 0.4em 0.5em 0.4em;box-sizing: border-box;padding-bottom: 0.4em;background-color: white;}#sk-container-id-2 div.sk-label label {font-family: monospace;font-weight: bold;display: inline-block;line-height: 1.2em;}#sk-container-id-2 div.sk-label-container {text-align: center;}#sk-container-id-2 div.sk-container {/* jupyter's `normalize.less` sets `[hidden] { display: none; }` but bootstrap.min.css set `[hidden] { display: none !important; }` so we also need the `!important` here to be able to override the default hidden behavior on the sphinx rendered scikit-learn.org. See: https://github.com/scikit-learn/scikit-learn/issues/21755 */display: inline-block !important;position: relative;}#sk-container-id-2 div.sk-text-repr-fallback {display: none;}</style><div id=\"sk-container-id-2\" class=\"sk-top-container\"><div class=\"sk-text-repr-fallback\"><pre>DecisionTreeRegressor(random_state=30)</pre><b>In a Jupyter environment, please rerun this cell to show the HTML representation or trust the notebook. <br />On GitHub, the HTML representation is unable to render, please try loading this page with nbviewer.org.</b></div><div class=\"sk-container\" hidden><div class=\"sk-item\"><div class=\"sk-estimator sk-toggleable\"><input class=\"sk-toggleable__control sk-hidden--visually\" id=\"sk-estimator-id-2\" type=\"checkbox\" checked><label for=\"sk-estimator-id-2\" class=\"sk-toggleable__label sk-toggleable__label-arrow\">DecisionTreeRegressor</label><div class=\"sk-toggleable__content\"><pre>DecisionTreeRegressor(random_state=30)</pre></div></div></div></div></div>"
            ]
          },
          "metadata": {},
          "execution_count": 46
        }
      ]
    }
  ]
}