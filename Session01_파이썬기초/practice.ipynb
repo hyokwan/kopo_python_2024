{
 "cells": [
  {
   "cell_type": "markdown",
   "id": "9af87e77-76a1-4872-ae82-117125bf155d",
   "metadata": {},
   "source": [
    "# 1. 변수 선언"
   ]
  },
  {
   "cell_type": "markdown",
   "id": "eff1526b-36ce-4626-b3b1-cf06236b2083",
   "metadata": {},
   "source": [
    "### 1-1. 수 자료형"
   ]
  },
  {
   "cell_type": "code",
   "execution_count": null,
   "id": "a9d62bb6-b64f-4f5e-9004-c9d74aa3458b",
   "metadata": {},
   "outputs": [],
   "source": [
    "##"
   ]
  },
  {
   "cell_type": "code",
   "execution_count": null,
   "id": "1341f46f-11c8-40d8-914e-7742674b9294",
   "metadata": {},
   "outputs": [],
   "source": [
    "### 1. 문자형"
   ]
  },
  {
   "cell_type": "code",
   "execution_count": null,
   "id": "d0e48149-4a02-4850-a96a-1b0396cedad0",
   "metadata": {},
   "outputs": [],
   "source": [
    "### 1-2. 문자 자료형\n",
    "\n",
    "price = 2000\n",
    "discount = 0.2"
   ]
  },
  {
   "cell_type": "code",
   "execution_count": 15,
   "id": "7e5565f0-128a-4421-9cfb-c19176254cb3",
   "metadata": {},
   "outputs": [
    {
     "data": {
      "text/plain": [
       "400.0"
      ]
     },
     "execution_count": 15,
     "metadata": {},
     "output_type": "execute_result"
    }
   ],
   "source": [
    "price * discount"
   ]
  },
  {
   "cell_type": "code",
   "execution_count": 13,
   "id": "562f1acd-b871-4ca2-ade2-74793cd775ff",
   "metadata": {},
   "outputs": [
    {
     "ename": "NameError",
     "evalue": "name 'c' is not defined",
     "output_type": "error",
     "traceback": [
      "\u001b[1;31m---------------------------------------------------------------------------\u001b[0m",
      "\u001b[1;31mNameError\u001b[0m                                 Traceback (most recent call last)",
      "Cell \u001b[1;32mIn[13], line 1\u001b[0m\n\u001b[1;32m----> 1\u001b[0m \u001b[43mc\u001b[49m\n",
      "\u001b[1;31mNameError\u001b[0m: name 'c' is not defined"
     ]
    }
   ],
   "source": [
    "c"
   ]
  },
  {
   "cell_type": "code",
   "execution_count": 11,
   "id": "4ec53de9-9afb-4f84-877e-715f53b9360f",
   "metadata": {},
   "outputs": [
    {
     "data": {
      "text/plain": [
       "5"
      ]
     },
     "execution_count": 11,
     "metadata": {},
     "output_type": "execute_result"
    }
   ],
   "source": [
    "a=3\n",
    "b=5\n",
    "b"
   ]
  },
  {
   "cell_type": "code",
   "execution_count": 7,
   "id": "f18fbff6-7ee9-4b73-aa4f-561cf7368cdb",
   "metadata": {},
   "outputs": [
    {
     "data": {
      "text/plain": [
       "8"
      ]
     },
     "execution_count": 7,
     "metadata": {},
     "output_type": "execute_result"
    }
   ],
   "source": [
    "a+b"
   ]
  }
 ],
 "metadata": {
  "kernelspec": {
   "display_name": "Python 3 (ipykernel)",
   "language": "python",
   "name": "python3"
  },
  "language_info": {
   "codemirror_mode": {
    "name": "ipython",
    "version": 3
   },
   "file_extension": ".py",
   "mimetype": "text/x-python",
   "name": "python",
   "nbconvert_exporter": "python",
   "pygments_lexer": "ipython3",
   "version": "3.10.11"
  }
 },
 "nbformat": 4,
 "nbformat_minor": 5
}
