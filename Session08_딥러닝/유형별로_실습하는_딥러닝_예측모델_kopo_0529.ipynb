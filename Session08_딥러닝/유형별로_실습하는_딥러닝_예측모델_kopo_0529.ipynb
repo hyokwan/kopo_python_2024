{
  "nbformat": 4,
  "nbformat_minor": 0,
  "metadata": {
    "colab": {
      "provenance": []
    },
    "kernelspec": {
      "name": "python3",
      "display_name": "Python 3"
    },
    "language_info": {
      "name": "python"
    }
  },
  "cells": [
    {
      "cell_type": "code",
      "source": [
        "from google.colab import drive"
      ],
      "metadata": {
        "id": "N24WJp03-9is"
      },
      "execution_count": 1,
      "outputs": []
    },
    {
      "cell_type": "code",
      "source": [
        "drive.mount(\"/content/gdrive\")"
      ],
      "metadata": {
        "colab": {
          "base_uri": "https://localhost:8080/"
        },
        "id": "dfpnMXfH_DSs",
        "outputId": "7ad39a76-e1d8-407e-bd60-b7a747606072"
      },
      "execution_count": 2,
      "outputs": [
        {
          "output_type": "stream",
          "name": "stdout",
          "text": [
            "Mounted at /content/gdrive\n"
          ]
        }
      ]
    },
    {
      "cell_type": "code",
      "source": [
        "%cd /content/gdrive/MyDrive/Colab Notebooks/code2024/Session08 - 유형별로 실습하는 딥러닝"
      ],
      "metadata": {
        "colab": {
          "base_uri": "https://localhost:8080/"
        },
        "id": "GW9pTB1D_ZEU",
        "outputId": "9df067bc-cece-4982-c4f5-e479e48f1339"
      },
      "execution_count": 3,
      "outputs": [
        {
          "output_type": "stream",
          "name": "stdout",
          "text": [
            "/content/gdrive/MyDrive/Colab Notebooks/code2024/Session08 - 유형별로 실습하는 딥러닝\n"
          ]
        }
      ]
    },
    {
      "cell_type": "markdown",
      "source": [
        "# 모델 불러오기"
      ],
      "metadata": {
        "id": "zeGh-0t-_h8L"
      }
    },
    {
      "cell_type": "code",
      "source": [
        "import pickle\n",
        "from tensorflow.keras.models import load_model\n",
        "import pandas as pd"
      ],
      "metadata": {
        "id": "sXUGxmw5_jn6"
      },
      "execution_count": 15,
      "outputs": []
    },
    {
      "cell_type": "code",
      "source": [
        "with open(\"./models/selloutmodel.dump\",\"rb\") as fr:\n",
        "    loadedRef = pickle.load(fr)\n",
        "# 0:feature 1: labels 2: preprocessing\n",
        "# loadedRef"
      ],
      "metadata": {
        "id": "xu7Oj3Tr_mLE"
      },
      "execution_count": 11,
      "outputs": []
    },
    {
      "cell_type": "code",
      "source": [
        "loadedModel = load_model(\"./models/selloutmodel.h5\")"
      ],
      "metadata": {
        "id": "0nFzorRjAM_C"
      },
      "execution_count": 12,
      "outputs": []
    },
    {
      "cell_type": "code",
      "source": [
        "loadedModel.summary()"
      ],
      "metadata": {
        "colab": {
          "base_uri": "https://localhost:8080/"
        },
        "id": "0UQMPh59_mDT",
        "outputId": "e47c95d8-7480-4359-aad5-3b924eb592e9"
      },
      "execution_count": 13,
      "outputs": [
        {
          "output_type": "stream",
          "name": "stdout",
          "text": [
            "Model: \"sequential\"\n",
            "_________________________________________________________________\n",
            " Layer (type)                Output Shape              Param #   \n",
            "=================================================================\n",
            " dense (Dense)               (None, 8)                 40        \n",
            "                                                                 \n",
            " dense_1 (Dense)             (None, 8)                 72        \n",
            "                                                                 \n",
            " dense_2 (Dense)             (None, 1)                 9         \n",
            "                                                                 \n",
            "=================================================================\n",
            "Total params: 121 (484.00 Byte)\n",
            "Trainable params: 121 (484.00 Byte)\n",
            "Non-trainable params: 0 (0.00 Byte)\n",
            "_________________________________________________________________\n"
          ]
        }
      ]
    },
    {
      "cell_type": "code",
      "source": [
        "preProcessingFunc = loadedRef[2]"
      ],
      "metadata": {
        "id": "YRB6BEhwA8Rm"
      },
      "execution_count": 20,
      "outputs": []
    },
    {
      "cell_type": "code",
      "source": [
        "# 화면입력데이터 변수 할당\n",
        "inputPromotion = \"N\"\n",
        "inputHoliday = \"N\"\n",
        "inputPromotionPercent = 0.0\n",
        "inputHclus = 4"
      ],
      "metadata": {
        "id": "btNjhagKDO6t"
      },
      "execution_count": 53,
      "outputs": []
    },
    {
      "cell_type": "code",
      "source": [
        "# 전처리 함수 불러오기\n",
        "ynLabel = preProcessingFunc[0]\n",
        "promotionScaler = preProcessingFunc[2]\n",
        "hclusScaler = preProcessingFunc[3]"
      ],
      "metadata": {
        "id": "HwHASvdQDhLV"
      },
      "execution_count": 54,
      "outputs": []
    },
    {
      "cell_type": "code",
      "source": [
        "# 입력데이터 전처리\n",
        "inputPromotionCvt = ynLabel.transform( [inputPromotion] )[0]\n",
        "inputHolidayCvt = ynLabel.transform( [inputHoliday] )[0]\n",
        "inputProCvt = promotionScaler.transform( [[inputPromotionPercent]] )[0][0]\n",
        "inputHclusCvt = hclusScaler.transform( [[inputHclus]] )[0][0]"
      ],
      "metadata": {
        "colab": {
          "base_uri": "https://localhost:8080/"
        },
        "id": "IFD9cXMlA7QU",
        "outputId": "034d31f4-176a-4f12-bb40-940f1dbcbfb1"
      },
      "execution_count": 55,
      "outputs": [
        {
          "output_type": "stream",
          "name": "stderr",
          "text": [
            "/usr/local/lib/python3.10/dist-packages/sklearn/base.py:439: UserWarning: X does not have valid feature names, but MinMaxScaler was fitted with feature names\n",
            "  warnings.warn(\n",
            "/usr/local/lib/python3.10/dist-packages/sklearn/base.py:439: UserWarning: X does not have valid feature names, but MinMaxScaler was fitted with feature names\n",
            "  warnings.warn(\n"
          ]
        }
      ]
    },
    {
      "cell_type": "code",
      "source": [
        "# 예측을 위한 데이터셋 생성\n",
        "testData = pd.DataFrame( [[ inputPromotionCvt, inputHolidayCvt, inputProCvt, inputHclusCvt ]] )"
      ],
      "metadata": {
        "id": "u3GW5C5lB-5O"
      },
      "execution_count": 56,
      "outputs": []
    },
    {
      "cell_type": "code",
      "source": [
        "# 예측\n",
        "loadedModel.predict( testData)"
      ],
      "metadata": {
        "colab": {
          "base_uri": "https://localhost:8080/"
        },
        "id": "g1lJrSx5DI4G",
        "outputId": "fddfb940-ef8d-431d-a2a7-c9f6f578578d"
      },
      "execution_count": 57,
      "outputs": [
        {
          "output_type": "stream",
          "name": "stdout",
          "text": [
            "1/1 [==============================] - 0s 21ms/step\n"
          ]
        },
        {
          "output_type": "execute_result",
          "data": {
            "text/plain": [
              "array([[277.5013]], dtype=float32)"
            ]
          },
          "metadata": {},
          "execution_count": 57
        }
      ]
    }
  ]
}