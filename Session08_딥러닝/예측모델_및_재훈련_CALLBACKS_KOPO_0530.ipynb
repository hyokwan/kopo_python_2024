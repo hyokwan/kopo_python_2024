{
  "nbformat": 4,
  "nbformat_minor": 0,
  "metadata": {
    "colab": {
      "provenance": []
    },
    "kernelspec": {
      "name": "python3",
      "display_name": "Python 3"
    },
    "language_info": {
      "name": "python"
    }
  },
  "cells": [
    {
      "cell_type": "markdown",
      "source": [
        "### 라이브러리 선언"
      ],
      "metadata": {
        "id": "taHga0MW51-Y"
      }
    },
    {
      "cell_type": "code",
      "source": [
        "# tensorflow 모델 (인공지능) 라이브러리\n",
        "import tensorflow as tf\n",
        "# 학습모델 불러오기용 라이브러리\n",
        "from tensorflow.keras import models\n",
        "# 변수타입을 포함해 데이터 불러오기/저장하기 라이브러리\n",
        "import pickle\n",
        "# 스프레드시트 형태 데이터 조작 라이브러리\n",
        "import pandas as pd\n",
        "import numpy as np"
      ],
      "metadata": {
        "id": "0flGfT3D54At"
      },
      "execution_count": 22,
      "outputs": []
    },
    {
      "cell_type": "code",
      "source": [
        "from google.colab import drive\n",
        "drive.mount(\"/content/gdrive\")"
      ],
      "metadata": {
        "id": "vdeUzf4eC7uD"
      },
      "execution_count": null,
      "outputs": []
    },
    {
      "cell_type": "markdown",
      "source": [
        "### 1. 모델 및 관련 참조데이터 불러오기"
      ],
      "metadata": {
        "id": "oD54VS8P6Va4"
      }
    },
    {
      "cell_type": "code",
      "source": [
        "modelPath = \"/content/gdrive/MyDrive/Colab Notebooks/h5models/selloutmodel.h5\"\n",
        "loadedModel = models.load_model(modelPath)"
      ],
      "metadata": {
        "id": "-VOTrtdl7asJ"
      },
      "execution_count": 11,
      "outputs": []
    },
    {
      "cell_type": "code",
      "source": [
        "refPath = \"/content/gdrive/MyDrive/Colab Notebooks/h5models/selloutmodel.dump\""
      ],
      "metadata": {
        "id": "z9ZTCqmZ7lwP"
      },
      "execution_count": 12,
      "outputs": []
    },
    {
      "cell_type": "code",
      "source": [
        "with open(refPath, \"rb\") as fr:\n",
        "    loadedRef = pickle.load(fr)"
      ],
      "metadata": {
        "id": "veKU4_Fa7gTW"
      },
      "execution_count": 14,
      "outputs": []
    },
    {
      "cell_type": "markdown",
      "source": [
        "### 2. 모델 재훈련"
      ],
      "metadata": {
        "id": "gPqquXhd74am"
      }
    },
    {
      "cell_type": "code",
      "source": [
        "### 1. 추가 학습데이터를 불러와야함\n",
        "### 2. 전처리를 동일하게 학습했던것처럼 해야한다.\n",
        "### 3. 컴파일을 다시 해준다 (컴파일의 OPTIMIZER, LOSS는 변경 가능하다!)\n",
        "### 4. 훈련 한다."
      ],
      "metadata": {
        "id": "Rcu27FHQBuj4"
      },
      "execution_count": 16,
      "outputs": []
    },
    {
      "cell_type": "markdown",
      "source": [
        "### 2-1. 추가 학습데이터 수집"
      ],
      "metadata": {
        "id": "1FmAJUVL77Vv"
      }
    },
    {
      "cell_type": "code",
      "source": [
        "dataUrl = \"https://raw.githubusercontent.com/hyokwan/python-lecture/master/dataset/feature_regression_example.csv\"\n",
        "dataAllUrl = \"https://raw.githubusercontent.com/hyokwan/python-lecture/master/dataset/kopo_decision_tree_all_new.csv\""
      ],
      "metadata": {
        "id": "QM_O4tbbCAVn"
      },
      "execution_count": 44,
      "outputs": []
    },
    {
      "cell_type": "code",
      "source": [
        "orgDataset = pd.read_csv(dataUrl)\n",
        "newDataset = pd.read_csv(dataAllUrl)"
      ],
      "metadata": {
        "id": "i0-gtpDWCVUc"
      },
      "execution_count": 45,
      "outputs": []
    },
    {
      "cell_type": "code",
      "source": [
        "set(orgDataset.columns) - set(newDataset.columns)"
      ],
      "metadata": {
        "colab": {
          "base_uri": "https://localhost:8080/"
        },
        "id": "BXBSUbYwDC-R",
        "outputId": "3c3d549d-a765-4700-c59a-dcd3efc9261b"
      },
      "execution_count": 46,
      "outputs": [
        {
          "output_type": "execute_result",
          "data": {
            "text/plain": [
              "set()"
            ]
          },
          "metadata": {},
          "execution_count": 46
        }
      ]
    },
    {
      "cell_type": "code",
      "source": [
        "groupKey = [\"REGIONID\",\"PRODUCTGROUP\",\"ITEM\"]"
      ],
      "metadata": {
        "id": "C5MAUoKBDpsY"
      },
      "execution_count": 47,
      "outputs": []
    },
    {
      "cell_type": "code",
      "source": [
        "cntKnob = orgDataset.shape[0]"
      ],
      "metadata": {
        "id": "BYSsT1PUG3rD"
      },
      "execution_count": 72,
      "outputs": []
    },
    {
      "cell_type": "code",
      "source": [
        "# 전체데이터를 그룹키로 건수를 체크한다!\n",
        "newDatasetGroup = newDataset.groupby(groupKey)[\"QTY\"].agg([\"count\"]).reset_index()\n",
        "# 컬럼 이름 변경\n",
        "newDatasetCnt = newDatasetGroup.rename(columns={\"count\":\"QTY_COUNT\"})\n",
        "# 신규 학습데이터 추출\n",
        "newDatasetFiltered = newDatasetCnt.loc[ newDatasetCnt.QTY_COUNT >= cntKnob]"
      ],
      "metadata": {
        "id": "kXuA_20MD6LI"
      },
      "execution_count": 73,
      "outputs": []
    },
    {
      "cell_type": "code",
      "source": [
        "newDatasetFiltered.drop_duplicates(subset=groupKey)\n",
        "newDatasetFiltered = newDatasetFiltered.reset_index(drop=True)"
      ],
      "metadata": {
        "id": "1amtlQCeFMcT"
      },
      "execution_count": 74,
      "outputs": []
    },
    {
      "cell_type": "code",
      "source": [
        "targetRegion = newDatasetFiltered.loc[0, [\"REGIONID\"]].values[0]\n",
        "targetProduct = newDatasetFiltered.loc[0, [\"PRODUCTGROUP\"]].values[0]\n",
        "targetItem = newDatasetFiltered.loc[0, [\"ITEM\"]].values[0]\n",
        "print(targetRegion,targetProduct,targetItem)"
      ],
      "metadata": {
        "colab": {
          "base_uri": "https://localhost:8080/"
        },
        "id": "S6_y3WzYFjkc",
        "outputId": "cf978501-4f7f-400e-84ef-1a6bf449761e"
      },
      "execution_count": 75,
      "outputs": [
        {
          "output_type": "stream",
          "name": "stdout",
          "text": [
            "A01 PG01 ITEM013\n"
          ]
        }
      ]
    },
    {
      "cell_type": "code",
      "source": [
        "trainDataSet = newDataset.loc[ (newDataset.REGIONID==targetRegion) &\n",
        "                (newDataset.PRODUCTGROUP==targetProduct) &\n",
        "                (newDataset.ITEM==targetItem) ]"
      ],
      "metadata": {
        "id": "VSEsylEtDQOw"
      },
      "execution_count": 104,
      "outputs": []
    },
    {
      "cell_type": "code",
      "source": [
        "trainDataSet.shape"
      ],
      "metadata": {
        "colab": {
          "base_uri": "https://localhost:8080/"
        },
        "id": "BP69-P8IKJK5",
        "outputId": "138627f6-0e13-49f9-f361-ddee5ad5512e"
      },
      "execution_count": 105,
      "outputs": [
        {
          "output_type": "execute_result",
          "data": {
            "text/plain": [
              "(130, 12)"
            ]
          },
          "metadata": {},
          "execution_count": 105
        }
      ]
    },
    {
      "cell_type": "markdown",
      "source": [
        "### 2-2. 데이터 전처리"
      ],
      "metadata": {
        "id": "vgCmHxiWHYGT"
      }
    },
    {
      "cell_type": "code",
      "source": [
        "## step1: 기존 feature, label 확인\n",
        "## step2: 기존 모델의 전처리함수 불러오기\n",
        "## step3: feature에 대해서 전처리함수 적용"
      ],
      "metadata": {
        "id": "UQ-3dK_ZHgLI"
      },
      "execution_count": 80,
      "outputs": []
    },
    {
      "cell_type": "code",
      "source": [
        "modelDict[\"features\"]"
      ],
      "metadata": {
        "colab": {
          "base_uri": "https://localhost:8080/"
        },
        "id": "Al89fMW8IVYj",
        "outputId": "dea9c270-df11-4bd9-e7ec-b43ed6941bd3"
      },
      "execution_count": 85,
      "outputs": [
        {
          "output_type": "execute_result",
          "data": {
            "text/plain": [
              "['PROMOTION_LE', 'HOLIDAY_LE', 'PROMOTION_SC', 'HCLUS_SC']"
            ]
          },
          "metadata": {},
          "execution_count": 85
        }
      ]
    },
    {
      "cell_type": "code",
      "source": [
        "## step1: 기존 feature, label 확인\n",
        "features = loadedRef[0]\n",
        "label = loadedRef[1]"
      ],
      "metadata": {
        "id": "pE3iv132DE3x"
      },
      "execution_count": 87,
      "outputs": []
    },
    {
      "cell_type": "code",
      "source": [
        "## step2: 기존 모델의 전처리함수 불러오기\n",
        "featuresPrefunc = loadedRef[2]"
      ],
      "metadata": {
        "id": "byM_sUAOH1B-"
      },
      "execution_count": 95,
      "outputs": []
    },
    {
      "cell_type": "code",
      "source": [
        "## step3: feature에 대해서 전처리함수 적용"
      ],
      "metadata": {
        "id": "L3I874YfI426"
      },
      "execution_count": 89,
      "outputs": []
    },
    {
      "cell_type": "code",
      "source": [
        "orgFeatures = [\"PROMOTION\",\"HOLIDAY\",\"PRO_PERCENT\",\"HCLUS\"]\n",
        "labelEnco = featuresPrefunc[0]\n",
        "trainDataSet[features[0]] = labelEnco.transform( trainDataSet.loc[ :, orgFeatures[0]])\n",
        "trainDataSet[features[1]] = labelEnco.transform( trainDataSet.loc[ :, orgFeatures[1]])\n",
        "scaledFunc = featuresPrefunc[2]\n",
        "trainDataSet[features[2]] = scaledFunc.transform( trainDataSet.loc[:, [orgFeatures[2]]] )\n",
        "scaledFunc = featuresPrefunc[3]\n",
        "trainDataSet[features[3]] = scaledFunc.transform( trainDataSet.loc[:, [orgFeatures[3]]] )"
      ],
      "metadata": {
        "id": "vfhQhsY1Mvsk"
      },
      "execution_count": null,
      "outputs": []
    },
    {
      "cell_type": "code",
      "source": [
        "trainDataSet"
      ],
      "metadata": {
        "colab": {
          "base_uri": "https://localhost:8080/",
          "height": 443
        },
        "id": "qCOpmiFLLVau",
        "outputId": "92908a9c-398f-44f3-de2c-57aab8d6ff3d"
      },
      "execution_count": 135,
      "outputs": [
        {
          "output_type": "execute_result",
          "data": {
            "text/plain": [
              "    REGIONID PRODUCTGROUP PRODUCT     ITEM  YEARWEEK  YEAR  WEEK  QTY HOLIDAY  \\\n",
              "419      A01         PG01     P01  ITEM013    201501  2015     1    6       Y   \n",
              "420      A01         PG01     P01  ITEM013    201502  2015     2    4       N   \n",
              "421      A01         PG01     P01  ITEM013    201503  2015     3    7       N   \n",
              "422      A01         PG01     P01  ITEM013    201504  2015     4   17       Y   \n",
              "423      A01         PG01     P01  ITEM013    201505  2015     5    7       N   \n",
              "..       ...          ...     ...      ...       ...   ...   ...  ...     ...   \n",
              "544      A01         PG01     P01  ITEM013    201730  2017    30    3       N   \n",
              "545      A01         PG01     P01  ITEM013    201732  2017    32    3       N   \n",
              "546      A01         PG01     P01  ITEM013    201734  2017    34    1       Y   \n",
              "547      A01         PG01     P01  ITEM013    201736  2017    36    1       Y   \n",
              "548      A01         PG01     P01  ITEM013    201740  2017    40    1       N   \n",
              "\n",
              "     HCLUS PROMOTION  PRO_PERCENT  PROMOTION_LE  HOLIDAY_LE  PROMOTION_SC  \\\n",
              "419      1         N     0.000000             0           1      0.000000   \n",
              "420      4         N     0.000000             0           0      0.000000   \n",
              "421      4         N     0.000000             0           0      0.000000   \n",
              "422      2         N     0.000000             0           1      0.000000   \n",
              "423      4         N     0.000000             0           0      0.000000   \n",
              "..     ...       ...          ...           ...         ...           ...   \n",
              "544      4         Y     0.406754             1           0      0.964128   \n",
              "545      4         Y     0.406754             1           0      0.964128   \n",
              "546      1         Y     0.406754             1           1      0.964128   \n",
              "547      1         Y     0.406754             1           1      0.964128   \n",
              "548      4         Y     0.406754             1           0      0.964128   \n",
              "\n",
              "     HCLUS_SC  \n",
              "419      0.25  \n",
              "420      1.00  \n",
              "421      1.00  \n",
              "422      0.50  \n",
              "423      1.00  \n",
              "..        ...  \n",
              "544      1.00  \n",
              "545      1.00  \n",
              "546      0.25  \n",
              "547      0.25  \n",
              "548      1.00  \n",
              "\n",
              "[130 rows x 16 columns]"
            ],
            "text/html": [
              "\n",
              "  <div id=\"df-0ff2bb5b-a3ff-4385-a756-63a409ba8eb0\" class=\"colab-df-container\">\n",
              "    <div>\n",
              "<style scoped>\n",
              "    .dataframe tbody tr th:only-of-type {\n",
              "        vertical-align: middle;\n",
              "    }\n",
              "\n",
              "    .dataframe tbody tr th {\n",
              "        vertical-align: top;\n",
              "    }\n",
              "\n",
              "    .dataframe thead th {\n",
              "        text-align: right;\n",
              "    }\n",
              "</style>\n",
              "<table border=\"1\" class=\"dataframe\">\n",
              "  <thead>\n",
              "    <tr style=\"text-align: right;\">\n",
              "      <th></th>\n",
              "      <th>REGIONID</th>\n",
              "      <th>PRODUCTGROUP</th>\n",
              "      <th>PRODUCT</th>\n",
              "      <th>ITEM</th>\n",
              "      <th>YEARWEEK</th>\n",
              "      <th>YEAR</th>\n",
              "      <th>WEEK</th>\n",
              "      <th>QTY</th>\n",
              "      <th>HOLIDAY</th>\n",
              "      <th>HCLUS</th>\n",
              "      <th>PROMOTION</th>\n",
              "      <th>PRO_PERCENT</th>\n",
              "      <th>PROMOTION_LE</th>\n",
              "      <th>HOLIDAY_LE</th>\n",
              "      <th>PROMOTION_SC</th>\n",
              "      <th>HCLUS_SC</th>\n",
              "    </tr>\n",
              "  </thead>\n",
              "  <tbody>\n",
              "    <tr>\n",
              "      <th>419</th>\n",
              "      <td>A01</td>\n",
              "      <td>PG01</td>\n",
              "      <td>P01</td>\n",
              "      <td>ITEM013</td>\n",
              "      <td>201501</td>\n",
              "      <td>2015</td>\n",
              "      <td>1</td>\n",
              "      <td>6</td>\n",
              "      <td>Y</td>\n",
              "      <td>1</td>\n",
              "      <td>N</td>\n",
              "      <td>0.000000</td>\n",
              "      <td>0</td>\n",
              "      <td>1</td>\n",
              "      <td>0.000000</td>\n",
              "      <td>0.25</td>\n",
              "    </tr>\n",
              "    <tr>\n",
              "      <th>420</th>\n",
              "      <td>A01</td>\n",
              "      <td>PG01</td>\n",
              "      <td>P01</td>\n",
              "      <td>ITEM013</td>\n",
              "      <td>201502</td>\n",
              "      <td>2015</td>\n",
              "      <td>2</td>\n",
              "      <td>4</td>\n",
              "      <td>N</td>\n",
              "      <td>4</td>\n",
              "      <td>N</td>\n",
              "      <td>0.000000</td>\n",
              "      <td>0</td>\n",
              "      <td>0</td>\n",
              "      <td>0.000000</td>\n",
              "      <td>1.00</td>\n",
              "    </tr>\n",
              "    <tr>\n",
              "      <th>421</th>\n",
              "      <td>A01</td>\n",
              "      <td>PG01</td>\n",
              "      <td>P01</td>\n",
              "      <td>ITEM013</td>\n",
              "      <td>201503</td>\n",
              "      <td>2015</td>\n",
              "      <td>3</td>\n",
              "      <td>7</td>\n",
              "      <td>N</td>\n",
              "      <td>4</td>\n",
              "      <td>N</td>\n",
              "      <td>0.000000</td>\n",
              "      <td>0</td>\n",
              "      <td>0</td>\n",
              "      <td>0.000000</td>\n",
              "      <td>1.00</td>\n",
              "    </tr>\n",
              "    <tr>\n",
              "      <th>422</th>\n",
              "      <td>A01</td>\n",
              "      <td>PG01</td>\n",
              "      <td>P01</td>\n",
              "      <td>ITEM013</td>\n",
              "      <td>201504</td>\n",
              "      <td>2015</td>\n",
              "      <td>4</td>\n",
              "      <td>17</td>\n",
              "      <td>Y</td>\n",
              "      <td>2</td>\n",
              "      <td>N</td>\n",
              "      <td>0.000000</td>\n",
              "      <td>0</td>\n",
              "      <td>1</td>\n",
              "      <td>0.000000</td>\n",
              "      <td>0.50</td>\n",
              "    </tr>\n",
              "    <tr>\n",
              "      <th>423</th>\n",
              "      <td>A01</td>\n",
              "      <td>PG01</td>\n",
              "      <td>P01</td>\n",
              "      <td>ITEM013</td>\n",
              "      <td>201505</td>\n",
              "      <td>2015</td>\n",
              "      <td>5</td>\n",
              "      <td>7</td>\n",
              "      <td>N</td>\n",
              "      <td>4</td>\n",
              "      <td>N</td>\n",
              "      <td>0.000000</td>\n",
              "      <td>0</td>\n",
              "      <td>0</td>\n",
              "      <td>0.000000</td>\n",
              "      <td>1.00</td>\n",
              "    </tr>\n",
              "    <tr>\n",
              "      <th>...</th>\n",
              "      <td>...</td>\n",
              "      <td>...</td>\n",
              "      <td>...</td>\n",
              "      <td>...</td>\n",
              "      <td>...</td>\n",
              "      <td>...</td>\n",
              "      <td>...</td>\n",
              "      <td>...</td>\n",
              "      <td>...</td>\n",
              "      <td>...</td>\n",
              "      <td>...</td>\n",
              "      <td>...</td>\n",
              "      <td>...</td>\n",
              "      <td>...</td>\n",
              "      <td>...</td>\n",
              "      <td>...</td>\n",
              "    </tr>\n",
              "    <tr>\n",
              "      <th>544</th>\n",
              "      <td>A01</td>\n",
              "      <td>PG01</td>\n",
              "      <td>P01</td>\n",
              "      <td>ITEM013</td>\n",
              "      <td>201730</td>\n",
              "      <td>2017</td>\n",
              "      <td>30</td>\n",
              "      <td>3</td>\n",
              "      <td>N</td>\n",
              "      <td>4</td>\n",
              "      <td>Y</td>\n",
              "      <td>0.406754</td>\n",
              "      <td>1</td>\n",
              "      <td>0</td>\n",
              "      <td>0.964128</td>\n",
              "      <td>1.00</td>\n",
              "    </tr>\n",
              "    <tr>\n",
              "      <th>545</th>\n",
              "      <td>A01</td>\n",
              "      <td>PG01</td>\n",
              "      <td>P01</td>\n",
              "      <td>ITEM013</td>\n",
              "      <td>201732</td>\n",
              "      <td>2017</td>\n",
              "      <td>32</td>\n",
              "      <td>3</td>\n",
              "      <td>N</td>\n",
              "      <td>4</td>\n",
              "      <td>Y</td>\n",
              "      <td>0.406754</td>\n",
              "      <td>1</td>\n",
              "      <td>0</td>\n",
              "      <td>0.964128</td>\n",
              "      <td>1.00</td>\n",
              "    </tr>\n",
              "    <tr>\n",
              "      <th>546</th>\n",
              "      <td>A01</td>\n",
              "      <td>PG01</td>\n",
              "      <td>P01</td>\n",
              "      <td>ITEM013</td>\n",
              "      <td>201734</td>\n",
              "      <td>2017</td>\n",
              "      <td>34</td>\n",
              "      <td>1</td>\n",
              "      <td>Y</td>\n",
              "      <td>1</td>\n",
              "      <td>Y</td>\n",
              "      <td>0.406754</td>\n",
              "      <td>1</td>\n",
              "      <td>1</td>\n",
              "      <td>0.964128</td>\n",
              "      <td>0.25</td>\n",
              "    </tr>\n",
              "    <tr>\n",
              "      <th>547</th>\n",
              "      <td>A01</td>\n",
              "      <td>PG01</td>\n",
              "      <td>P01</td>\n",
              "      <td>ITEM013</td>\n",
              "      <td>201736</td>\n",
              "      <td>2017</td>\n",
              "      <td>36</td>\n",
              "      <td>1</td>\n",
              "      <td>Y</td>\n",
              "      <td>1</td>\n",
              "      <td>Y</td>\n",
              "      <td>0.406754</td>\n",
              "      <td>1</td>\n",
              "      <td>1</td>\n",
              "      <td>0.964128</td>\n",
              "      <td>0.25</td>\n",
              "    </tr>\n",
              "    <tr>\n",
              "      <th>548</th>\n",
              "      <td>A01</td>\n",
              "      <td>PG01</td>\n",
              "      <td>P01</td>\n",
              "      <td>ITEM013</td>\n",
              "      <td>201740</td>\n",
              "      <td>2017</td>\n",
              "      <td>40</td>\n",
              "      <td>1</td>\n",
              "      <td>N</td>\n",
              "      <td>4</td>\n",
              "      <td>Y</td>\n",
              "      <td>0.406754</td>\n",
              "      <td>1</td>\n",
              "      <td>0</td>\n",
              "      <td>0.964128</td>\n",
              "      <td>1.00</td>\n",
              "    </tr>\n",
              "  </tbody>\n",
              "</table>\n",
              "<p>130 rows × 16 columns</p>\n",
              "</div>\n",
              "    <div class=\"colab-df-buttons\">\n",
              "\n",
              "  <div class=\"colab-df-container\">\n",
              "    <button class=\"colab-df-convert\" onclick=\"convertToInteractive('df-0ff2bb5b-a3ff-4385-a756-63a409ba8eb0')\"\n",
              "            title=\"Convert this dataframe to an interactive table.\"\n",
              "            style=\"display:none;\">\n",
              "\n",
              "  <svg xmlns=\"http://www.w3.org/2000/svg\" height=\"24px\" viewBox=\"0 -960 960 960\">\n",
              "    <path d=\"M120-120v-720h720v720H120Zm60-500h600v-160H180v160Zm220 220h160v-160H400v160Zm0 220h160v-160H400v160ZM180-400h160v-160H180v160Zm440 0h160v-160H620v160ZM180-180h160v-160H180v160Zm440 0h160v-160H620v160Z\"/>\n",
              "  </svg>\n",
              "    </button>\n",
              "\n",
              "  <style>\n",
              "    .colab-df-container {\n",
              "      display:flex;\n",
              "      gap: 12px;\n",
              "    }\n",
              "\n",
              "    .colab-df-convert {\n",
              "      background-color: #E8F0FE;\n",
              "      border: none;\n",
              "      border-radius: 50%;\n",
              "      cursor: pointer;\n",
              "      display: none;\n",
              "      fill: #1967D2;\n",
              "      height: 32px;\n",
              "      padding: 0 0 0 0;\n",
              "      width: 32px;\n",
              "    }\n",
              "\n",
              "    .colab-df-convert:hover {\n",
              "      background-color: #E2EBFA;\n",
              "      box-shadow: 0px 1px 2px rgba(60, 64, 67, 0.3), 0px 1px 3px 1px rgba(60, 64, 67, 0.15);\n",
              "      fill: #174EA6;\n",
              "    }\n",
              "\n",
              "    .colab-df-buttons div {\n",
              "      margin-bottom: 4px;\n",
              "    }\n",
              "\n",
              "    [theme=dark] .colab-df-convert {\n",
              "      background-color: #3B4455;\n",
              "      fill: #D2E3FC;\n",
              "    }\n",
              "\n",
              "    [theme=dark] .colab-df-convert:hover {\n",
              "      background-color: #434B5C;\n",
              "      box-shadow: 0px 1px 3px 1px rgba(0, 0, 0, 0.15);\n",
              "      filter: drop-shadow(0px 1px 2px rgba(0, 0, 0, 0.3));\n",
              "      fill: #FFFFFF;\n",
              "    }\n",
              "  </style>\n",
              "\n",
              "    <script>\n",
              "      const buttonEl =\n",
              "        document.querySelector('#df-0ff2bb5b-a3ff-4385-a756-63a409ba8eb0 button.colab-df-convert');\n",
              "      buttonEl.style.display =\n",
              "        google.colab.kernel.accessAllowed ? 'block' : 'none';\n",
              "\n",
              "      async function convertToInteractive(key) {\n",
              "        const element = document.querySelector('#df-0ff2bb5b-a3ff-4385-a756-63a409ba8eb0');\n",
              "        const dataTable =\n",
              "          await google.colab.kernel.invokeFunction('convertToInteractive',\n",
              "                                                    [key], {});\n",
              "        if (!dataTable) return;\n",
              "\n",
              "        const docLinkHtml = 'Like what you see? Visit the ' +\n",
              "          '<a target=\"_blank\" href=https://colab.research.google.com/notebooks/data_table.ipynb>data table notebook</a>'\n",
              "          + ' to learn more about interactive tables.';\n",
              "        element.innerHTML = '';\n",
              "        dataTable['output_type'] = 'display_data';\n",
              "        await google.colab.output.renderOutput(dataTable, element);\n",
              "        const docLink = document.createElement('div');\n",
              "        docLink.innerHTML = docLinkHtml;\n",
              "        element.appendChild(docLink);\n",
              "      }\n",
              "    </script>\n",
              "  </div>\n",
              "\n",
              "\n",
              "<div id=\"df-b05880f4-7473-4755-8f42-44d152c859af\">\n",
              "  <button class=\"colab-df-quickchart\" onclick=\"quickchart('df-b05880f4-7473-4755-8f42-44d152c859af')\"\n",
              "            title=\"Suggest charts\"\n",
              "            style=\"display:none;\">\n",
              "\n",
              "<svg xmlns=\"http://www.w3.org/2000/svg\" height=\"24px\"viewBox=\"0 0 24 24\"\n",
              "     width=\"24px\">\n",
              "    <g>\n",
              "        <path d=\"M19 3H5c-1.1 0-2 .9-2 2v14c0 1.1.9 2 2 2h14c1.1 0 2-.9 2-2V5c0-1.1-.9-2-2-2zM9 17H7v-7h2v7zm4 0h-2V7h2v10zm4 0h-2v-4h2v4z\"/>\n",
              "    </g>\n",
              "</svg>\n",
              "  </button>\n",
              "\n",
              "<style>\n",
              "  .colab-df-quickchart {\n",
              "      --bg-color: #E8F0FE;\n",
              "      --fill-color: #1967D2;\n",
              "      --hover-bg-color: #E2EBFA;\n",
              "      --hover-fill-color: #174EA6;\n",
              "      --disabled-fill-color: #AAA;\n",
              "      --disabled-bg-color: #DDD;\n",
              "  }\n",
              "\n",
              "  [theme=dark] .colab-df-quickchart {\n",
              "      --bg-color: #3B4455;\n",
              "      --fill-color: #D2E3FC;\n",
              "      --hover-bg-color: #434B5C;\n",
              "      --hover-fill-color: #FFFFFF;\n",
              "      --disabled-bg-color: #3B4455;\n",
              "      --disabled-fill-color: #666;\n",
              "  }\n",
              "\n",
              "  .colab-df-quickchart {\n",
              "    background-color: var(--bg-color);\n",
              "    border: none;\n",
              "    border-radius: 50%;\n",
              "    cursor: pointer;\n",
              "    display: none;\n",
              "    fill: var(--fill-color);\n",
              "    height: 32px;\n",
              "    padding: 0;\n",
              "    width: 32px;\n",
              "  }\n",
              "\n",
              "  .colab-df-quickchart:hover {\n",
              "    background-color: var(--hover-bg-color);\n",
              "    box-shadow: 0 1px 2px rgba(60, 64, 67, 0.3), 0 1px 3px 1px rgba(60, 64, 67, 0.15);\n",
              "    fill: var(--button-hover-fill-color);\n",
              "  }\n",
              "\n",
              "  .colab-df-quickchart-complete:disabled,\n",
              "  .colab-df-quickchart-complete:disabled:hover {\n",
              "    background-color: var(--disabled-bg-color);\n",
              "    fill: var(--disabled-fill-color);\n",
              "    box-shadow: none;\n",
              "  }\n",
              "\n",
              "  .colab-df-spinner {\n",
              "    border: 2px solid var(--fill-color);\n",
              "    border-color: transparent;\n",
              "    border-bottom-color: var(--fill-color);\n",
              "    animation:\n",
              "      spin 1s steps(1) infinite;\n",
              "  }\n",
              "\n",
              "  @keyframes spin {\n",
              "    0% {\n",
              "      border-color: transparent;\n",
              "      border-bottom-color: var(--fill-color);\n",
              "      border-left-color: var(--fill-color);\n",
              "    }\n",
              "    20% {\n",
              "      border-color: transparent;\n",
              "      border-left-color: var(--fill-color);\n",
              "      border-top-color: var(--fill-color);\n",
              "    }\n",
              "    30% {\n",
              "      border-color: transparent;\n",
              "      border-left-color: var(--fill-color);\n",
              "      border-top-color: var(--fill-color);\n",
              "      border-right-color: var(--fill-color);\n",
              "    }\n",
              "    40% {\n",
              "      border-color: transparent;\n",
              "      border-right-color: var(--fill-color);\n",
              "      border-top-color: var(--fill-color);\n",
              "    }\n",
              "    60% {\n",
              "      border-color: transparent;\n",
              "      border-right-color: var(--fill-color);\n",
              "    }\n",
              "    80% {\n",
              "      border-color: transparent;\n",
              "      border-right-color: var(--fill-color);\n",
              "      border-bottom-color: var(--fill-color);\n",
              "    }\n",
              "    90% {\n",
              "      border-color: transparent;\n",
              "      border-bottom-color: var(--fill-color);\n",
              "    }\n",
              "  }\n",
              "</style>\n",
              "\n",
              "  <script>\n",
              "    async function quickchart(key) {\n",
              "      const quickchartButtonEl =\n",
              "        document.querySelector('#' + key + ' button');\n",
              "      quickchartButtonEl.disabled = true;  // To prevent multiple clicks.\n",
              "      quickchartButtonEl.classList.add('colab-df-spinner');\n",
              "      try {\n",
              "        const charts = await google.colab.kernel.invokeFunction(\n",
              "            'suggestCharts', [key], {});\n",
              "      } catch (error) {\n",
              "        console.error('Error during call to suggestCharts:', error);\n",
              "      }\n",
              "      quickchartButtonEl.classList.remove('colab-df-spinner');\n",
              "      quickchartButtonEl.classList.add('colab-df-quickchart-complete');\n",
              "    }\n",
              "    (() => {\n",
              "      let quickchartButtonEl =\n",
              "        document.querySelector('#df-b05880f4-7473-4755-8f42-44d152c859af button');\n",
              "      quickchartButtonEl.style.display =\n",
              "        google.colab.kernel.accessAllowed ? 'block' : 'none';\n",
              "    })();\n",
              "  </script>\n",
              "</div>\n",
              "\n",
              "  <div id=\"id_8e555802-d911-46a5-9d33-cf83338013fc\">\n",
              "    <style>\n",
              "      .colab-df-generate {\n",
              "        background-color: #E8F0FE;\n",
              "        border: none;\n",
              "        border-radius: 50%;\n",
              "        cursor: pointer;\n",
              "        display: none;\n",
              "        fill: #1967D2;\n",
              "        height: 32px;\n",
              "        padding: 0 0 0 0;\n",
              "        width: 32px;\n",
              "      }\n",
              "\n",
              "      .colab-df-generate:hover {\n",
              "        background-color: #E2EBFA;\n",
              "        box-shadow: 0px 1px 2px rgba(60, 64, 67, 0.3), 0px 1px 3px 1px rgba(60, 64, 67, 0.15);\n",
              "        fill: #174EA6;\n",
              "      }\n",
              "\n",
              "      [theme=dark] .colab-df-generate {\n",
              "        background-color: #3B4455;\n",
              "        fill: #D2E3FC;\n",
              "      }\n",
              "\n",
              "      [theme=dark] .colab-df-generate:hover {\n",
              "        background-color: #434B5C;\n",
              "        box-shadow: 0px 1px 3px 1px rgba(0, 0, 0, 0.15);\n",
              "        filter: drop-shadow(0px 1px 2px rgba(0, 0, 0, 0.3));\n",
              "        fill: #FFFFFF;\n",
              "      }\n",
              "    </style>\n",
              "    <button class=\"colab-df-generate\" onclick=\"generateWithVariable('trainDataSet')\"\n",
              "            title=\"Generate code using this dataframe.\"\n",
              "            style=\"display:none;\">\n",
              "\n",
              "  <svg xmlns=\"http://www.w3.org/2000/svg\" height=\"24px\"viewBox=\"0 0 24 24\"\n",
              "       width=\"24px\">\n",
              "    <path d=\"M7,19H8.4L18.45,9,17,7.55,7,17.6ZM5,21V16.75L18.45,3.32a2,2,0,0,1,2.83,0l1.4,1.43a1.91,1.91,0,0,1,.58,1.4,1.91,1.91,0,0,1-.58,1.4L9.25,21ZM18.45,9,17,7.55Zm-12,3A5.31,5.31,0,0,0,4.9,8.1,5.31,5.31,0,0,0,1,6.5,5.31,5.31,0,0,0,4.9,4.9,5.31,5.31,0,0,0,6.5,1,5.31,5.31,0,0,0,8.1,4.9,5.31,5.31,0,0,0,12,6.5,5.46,5.46,0,0,0,6.5,12Z\"/>\n",
              "  </svg>\n",
              "    </button>\n",
              "    <script>\n",
              "      (() => {\n",
              "      const buttonEl =\n",
              "        document.querySelector('#id_8e555802-d911-46a5-9d33-cf83338013fc button.colab-df-generate');\n",
              "      buttonEl.style.display =\n",
              "        google.colab.kernel.accessAllowed ? 'block' : 'none';\n",
              "\n",
              "      buttonEl.onclick = () => {\n",
              "        google.colab.notebook.generateWithVariable('trainDataSet');\n",
              "      }\n",
              "      })();\n",
              "    </script>\n",
              "  </div>\n",
              "\n",
              "    </div>\n",
              "  </div>\n"
            ],
            "application/vnd.google.colaboratory.intrinsic+json": {
              "type": "dataframe",
              "variable_name": "trainDataSet",
              "summary": "{\n  \"name\": \"trainDataSet\",\n  \"rows\": 130,\n  \"fields\": [\n    {\n      \"column\": \"REGIONID\",\n      \"properties\": {\n        \"dtype\": \"category\",\n        \"num_unique_values\": 1,\n        \"samples\": [\n          \"A01\"\n        ],\n        \"semantic_type\": \"\",\n        \"description\": \"\"\n      }\n    },\n    {\n      \"column\": \"PRODUCTGROUP\",\n      \"properties\": {\n        \"dtype\": \"category\",\n        \"num_unique_values\": 1,\n        \"samples\": [\n          \"PG01\"\n        ],\n        \"semantic_type\": \"\",\n        \"description\": \"\"\n      }\n    },\n    {\n      \"column\": \"PRODUCT\",\n      \"properties\": {\n        \"dtype\": \"category\",\n        \"num_unique_values\": 1,\n        \"samples\": [\n          \"P01\"\n        ],\n        \"semantic_type\": \"\",\n        \"description\": \"\"\n      }\n    },\n    {\n      \"column\": \"ITEM\",\n      \"properties\": {\n        \"dtype\": \"category\",\n        \"num_unique_values\": 1,\n        \"samples\": [\n          \"ITEM013\"\n        ],\n        \"semantic_type\": \"\",\n        \"description\": \"\"\n      }\n    },\n    {\n      \"column\": \"YEARWEEK\",\n      \"properties\": {\n        \"dtype\": \"number\",\n        \"std\": 76,\n        \"min\": 201501,\n        \"max\": 201740,\n        \"num_unique_values\": 130,\n        \"samples\": [\n          201603\n        ],\n        \"semantic_type\": \"\",\n        \"description\": \"\"\n      }\n    },\n    {\n      \"column\": \"YEAR\",\n      \"properties\": {\n        \"dtype\": \"number\",\n        \"std\": 0,\n        \"min\": 2015,\n        \"max\": 2017,\n        \"num_unique_values\": 3,\n        \"samples\": [\n          2015\n        ],\n        \"semantic_type\": \"\",\n        \"description\": \"\"\n      }\n    },\n    {\n      \"column\": \"WEEK\",\n      \"properties\": {\n        \"dtype\": \"number\",\n        \"std\": 14,\n        \"min\": 1,\n        \"max\": 53,\n        \"num_unique_values\": 53,\n        \"samples\": [\n          20\n        ],\n        \"semantic_type\": \"\",\n        \"description\": \"\"\n      }\n    },\n    {\n      \"column\": \"QTY\",\n      \"properties\": {\n        \"dtype\": \"number\",\n        \"std\": 4,\n        \"min\": 1,\n        \"max\": 23,\n        \"num_unique_values\": 19,\n        \"samples\": [\n          6\n        ],\n        \"semantic_type\": \"\",\n        \"description\": \"\"\n      }\n    },\n    {\n      \"column\": \"HOLIDAY\",\n      \"properties\": {\n        \"dtype\": \"category\",\n        \"num_unique_values\": 2,\n        \"samples\": [\n          \"N\"\n        ],\n        \"semantic_type\": \"\",\n        \"description\": \"\"\n      }\n    },\n    {\n      \"column\": \"HCLUS\",\n      \"properties\": {\n        \"dtype\": \"number\",\n        \"std\": 1,\n        \"min\": 0,\n        \"max\": 4,\n        \"num_unique_values\": 4,\n        \"samples\": [\n          4\n        ],\n        \"semantic_type\": \"\",\n        \"description\": \"\"\n      }\n    },\n    {\n      \"column\": \"PROMOTION\",\n      \"properties\": {\n        \"dtype\": \"category\",\n        \"num_unique_values\": 2,\n        \"samples\": [\n          \"Y\"\n        ],\n        \"semantic_type\": \"\",\n        \"description\": \"\"\n      }\n    },\n    {\n      \"column\": \"PRO_PERCENT\",\n      \"properties\": {\n        \"dtype\": \"number\",\n        \"std\": 0.07462221010247064,\n        \"min\": 0.0,\n        \"max\": 0.406754221,\n        \"num_unique_values\": 4,\n        \"samples\": [\n          0.187804878\n        ],\n        \"semantic_type\": \"\",\n        \"description\": \"\"\n      }\n    },\n    {\n      \"column\": \"PROMOTION_LE\",\n      \"properties\": {\n        \"dtype\": \"number\",\n        \"std\": 0,\n        \"min\": 0,\n        \"max\": 1,\n        \"num_unique_values\": 2,\n        \"samples\": [\n          1\n        ],\n        \"semantic_type\": \"\",\n        \"description\": \"\"\n      }\n    },\n    {\n      \"column\": \"HOLIDAY_LE\",\n      \"properties\": {\n        \"dtype\": \"number\",\n        \"std\": 0,\n        \"min\": 0,\n        \"max\": 1,\n        \"num_unique_values\": 2,\n        \"samples\": [\n          0\n        ],\n        \"semantic_type\": \"\",\n        \"description\": \"\"\n      }\n    },\n    {\n      \"column\": \"PROMOTION_SC\",\n      \"properties\": {\n        \"dtype\": \"number\",\n        \"std\": 0.176876652640724,\n        \"min\": 0.0,\n        \"max\": 0.9641275025112566,\n        \"num_unique_values\": 4,\n        \"samples\": [\n          0.4451529661829157\n        ],\n        \"semantic_type\": \"\",\n        \"description\": \"\"\n      }\n    },\n    {\n      \"column\": \"HCLUS_SC\",\n      \"properties\": {\n        \"dtype\": \"number\",\n        \"std\": 0.3913571329182424,\n        \"min\": 0.0,\n        \"max\": 1.0,\n        \"num_unique_values\": 4,\n        \"samples\": [\n          1.0\n        ],\n        \"semantic_type\": \"\",\n        \"description\": \"\"\n      }\n    }\n  ]\n}"
            }
          },
          "metadata": {},
          "execution_count": 135
        }
      ]
    },
    {
      "cell_type": "code",
      "source": [],
      "metadata": {
        "id": "I3fNrRu1LVYU"
      },
      "execution_count": null,
      "outputs": []
    }
  ]
}